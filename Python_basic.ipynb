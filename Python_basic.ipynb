{
  "nbformat": 4,
  "nbformat_minor": 0,
  "metadata": {
    "colab": {
      "name": "Python_basic.ipynb",
      "provenance": [],
      "include_colab_link": true
    },
    "kernelspec": {
      "name": "python3",
      "display_name": "Python 3"
    },
    "language_info": {
      "name": "python"
    }
  },
  "cells": [
    {
      "cell_type": "markdown",
      "metadata": {
        "id": "view-in-github",
        "colab_type": "text"
      },
      "source": [
        "<a href=\"https://colab.research.google.com/github/Dhrubaraj-Roy/Python-for-Machine-Learning/blob/main/Python_basic.ipynb\" target=\"_parent\"><img src=\"https://colab.research.google.com/assets/colab-badge.svg\" alt=\"Open In Colab\"/></a>"
      ]
    },
    {
      "cell_type": "markdown",
      "source": [
        "Part_1"
      ],
      "metadata": {
        "id": "kVarjds1in9X"
      }
    },
    {
      "cell_type": "markdown",
      "source": [
        "To Execute The Code: CTRL+ENTER or Click on RUN"
      ],
      "metadata": {
        "id": "VTELoH2qi9co"
      }
    },
    {
      "cell_type": "code",
      "execution_count": null,
      "metadata": {
        "colab": {
          "base_uri": "https://localhost:8080/"
        },
        "id": "j3ODcArqiRPH",
        "outputId": "7dcbb3d2-8645-4233-e762-ab101419413a"
      },
      "outputs": [
        {
          "output_type": "execute_result",
          "data": {
            "text/plain": [
              "4"
            ]
          },
          "metadata": {},
          "execution_count": 1
        }
      ],
      "source": [
        "# Addition\n",
        "2+2"
      ]
    },
    {
      "cell_type": "code",
      "source": [
        "# Sub\n",
        "3-2"
      ],
      "metadata": {
        "colab": {
          "base_uri": "https://localhost:8080/"
        },
        "id": "W2qpJBxUjGsA",
        "outputId": "2af46f63-6716-4091-8d60-81d0a039d043"
      },
      "execution_count": null,
      "outputs": [
        {
          "output_type": "execute_result",
          "data": {
            "text/plain": [
              "1"
            ]
          },
          "metadata": {},
          "execution_count": 2
        }
      ]
    },
    {
      "cell_type": "code",
      "source": [
        "# Multiplication in Python with the help of *\n",
        "5*5"
      ],
      "metadata": {
        "colab": {
          "base_uri": "https://localhost:8080/"
        },
        "id": "mhvvlYJCjMXm",
        "outputId": "5ab292d6-d2c0-4212-bfb9-05e151903a0a"
      },
      "execution_count": null,
      "outputs": [
        {
          "output_type": "execute_result",
          "data": {
            "text/plain": [
              "25"
            ]
          },
          "metadata": {},
          "execution_count": 3
        }
      ]
    },
    {
      "cell_type": "code",
      "source": [
        "# What About Exponent \n",
        "# In Case of Exponent we have to use Double **\n",
        "5**6 # 5^6"
      ],
      "metadata": {
        "colab": {
          "base_uri": "https://localhost:8080/"
        },
        "id": "sgFWnjw6jRqW",
        "outputId": "e9fcbace-20e9-4ac8-fdd8-c616f255562b"
      },
      "execution_count": null,
      "outputs": [
        {
          "output_type": "execute_result",
          "data": {
            "text/plain": [
              "15625"
            ]
          },
          "metadata": {},
          "execution_count": 4
        }
      ]
    },
    {
      "cell_type": "code",
      "source": [
        "# Division\n",
        "5/2"
      ],
      "metadata": {
        "colab": {
          "base_uri": "https://localhost:8080/"
        },
        "id": "WnwGx7kdjX9F",
        "outputId": "d42a78df-739f-4fc1-877b-fe4e779c9a3d"
      },
      "execution_count": null,
      "outputs": [
        {
          "output_type": "execute_result",
          "data": {
            "text/plain": [
              "2.5"
            ]
          },
          "metadata": {},
          "execution_count": 5
        }
      ]
    },
    {
      "cell_type": "markdown",
      "source": [
        "Modulus Operations can be done using %\n",
        "\n",
        "1. No. Can be Even\n",
        "2. No. Can be Odd"
      ],
      "metadata": {
        "id": "agasQLHRjtef"
      }
    },
    {
      "cell_type": "code",
      "source": [
        "5%2"
      ],
      "metadata": {
        "colab": {
          "base_uri": "https://localhost:8080/"
        },
        "id": "vfWQxiGGjj5c",
        "outputId": "4f880fa9-d2a8-43f7-bbbe-d80850cbf855"
      },
      "execution_count": null,
      "outputs": [
        {
          "output_type": "execute_result",
          "data": {
            "text/plain": [
              "1"
            ]
          },
          "metadata": {},
          "execution_count": 6
        }
      ]
    },
    {
      "cell_type": "code",
      "source": [
        "6%2"
      ],
      "metadata": {
        "colab": {
          "base_uri": "https://localhost:8080/"
        },
        "id": "InQTtsLMj0o7",
        "outputId": "6248505d-eee5-4eab-b399-1c214b75dc71"
      },
      "execution_count": null,
      "outputs": [
        {
          "output_type": "execute_result",
          "data": {
            "text/plain": [
              "0"
            ]
          },
          "metadata": {},
          "execution_count": 7
        }
      ]
    },
    {
      "cell_type": "markdown",
      "source": [
        "Basic Math Operation in Aspect of Standard Arithmetic Way"
      ],
      "metadata": {
        "id": "BD1ncQSjj5hc"
      }
    },
    {
      "cell_type": "code",
      "source": [
        "2+3*4/7"
      ],
      "metadata": {
        "colab": {
          "base_uri": "https://localhost:8080/"
        },
        "id": "NTj6CVkZj2aq",
        "outputId": "ccbf1a2c-95f1-4731-d0ec-22f6c3677c8d"
      },
      "execution_count": null,
      "outputs": [
        {
          "output_type": "execute_result",
          "data": {
            "text/plain": [
              "3.7142857142857144"
            ]
          },
          "metadata": {},
          "execution_count": 8
        }
      ]
    },
    {
      "cell_type": "code",
      "source": [
        "(2+2)*(7/4)+9"
      ],
      "metadata": {
        "colab": {
          "base_uri": "https://localhost:8080/"
        },
        "id": "FUv93HVLkCzi",
        "outputId": "c610d1b4-b4de-4037-9448-7879eedc44c3"
      },
      "execution_count": null,
      "outputs": [
        {
          "output_type": "execute_result",
          "data": {
            "text/plain": [
              "16.0"
            ]
          },
          "metadata": {},
          "execution_count": 9
        }
      ]
    },
    {
      "cell_type": "markdown",
      "source": [
        "Part_2: Concept of Variables"
      ],
      "metadata": {
        "id": "R3nmRlNRkQiQ"
      }
    },
    {
      "cell_type": "code",
      "source": [
        "a=99\n",
        "a"
      ],
      "metadata": {
        "colab": {
          "base_uri": "https://localhost:8080/"
        },
        "id": "hvER7ax6kHyZ",
        "outputId": "ad3f8331-b3d1-4c0f-d277-71b738d78999"
      },
      "execution_count": null,
      "outputs": [
        {
          "output_type": "execute_result",
          "data": {
            "text/plain": [
              "99"
            ]
          },
          "metadata": {},
          "execution_count": 10
        }
      ]
    },
    {
      "cell_type": "code",
      "source": [
        "a1 = 'test'\n",
        "a1"
      ],
      "metadata": {
        "colab": {
          "base_uri": "https://localhost:8080/",
          "height": 35
        },
        "id": "RSnJfgnkkULo",
        "outputId": "78c10737-f3c8-43eb-99f5-4254ff77a84e"
      },
      "execution_count": null,
      "outputs": [
        {
          "output_type": "execute_result",
          "data": {
            "text/plain": [
              "'test'"
            ],
            "application/vnd.google.colaboratory.intrinsic+json": {
              "type": "string"
            }
          },
          "metadata": {},
          "execution_count": 11
        }
      ]
    },
    {
      "cell_type": "markdown",
      "source": [
        "Variable Assignment Golden Rules:\n",
        "1.Cannot be Started with Any Special Char\n",
        "2.Cannot be Started with Any Number\n",
        "3.Cannot be Started with Any Reserve Keyword"
      ],
      "metadata": {
        "id": "facfDm9zkaXz"
      }
    },
    {
      "cell_type": "code",
      "source": [
        "$var=99\n",
        "$var"
      ],
      "metadata": {
        "colab": {
          "base_uri": "https://localhost:8080/",
          "height": 130
        },
        "id": "Zi0ed4U3kYbH",
        "outputId": "2b77f70f-958e-40bf-9de1-456283e90b55"
      },
      "execution_count": null,
      "outputs": [
        {
          "output_type": "error",
          "ename": "SyntaxError",
          "evalue": "ignored",
          "traceback": [
            "\u001b[0;36m  File \u001b[0;32m\"<ipython-input-12-3021aa6dd69d>\"\u001b[0;36m, line \u001b[0;32m1\u001b[0m\n\u001b[0;31m    $var=99\u001b[0m\n\u001b[0m    ^\u001b[0m\n\u001b[0;31mSyntaxError\u001b[0m\u001b[0;31m:\u001b[0m invalid syntax\n"
          ]
        }
      ]
    },
    {
      "cell_type": "code",
      "source": [
        "2var=99\n",
        "2var"
      ],
      "metadata": {
        "colab": {
          "base_uri": "https://localhost:8080/",
          "height": 130
        },
        "id": "4oVRgsFUkriY",
        "outputId": "45389de5-d793-4b95-a755-dce1fd7775ef"
      },
      "execution_count": null,
      "outputs": [
        {
          "output_type": "error",
          "ename": "SyntaxError",
          "evalue": "ignored",
          "traceback": [
            "\u001b[0;36m  File \u001b[0;32m\"<ipython-input-13-f221baa058b0>\"\u001b[0;36m, line \u001b[0;32m1\u001b[0m\n\u001b[0;31m    2var=99\u001b[0m\n\u001b[0m       ^\u001b[0m\n\u001b[0;31mSyntaxError\u001b[0m\u001b[0;31m:\u001b[0m invalid syntax\n"
          ]
        }
      ]
    },
    {
      "cell_type": "code",
      "source": [
        "class='dog'\n",
        "class"
      ],
      "metadata": {
        "colab": {
          "base_uri": "https://localhost:8080/",
          "height": 130
        },
        "id": "CCZnYU4Ckt5k",
        "outputId": "5770f863-fe5f-476d-aa9a-42e5209070f0"
      },
      "execution_count": null,
      "outputs": [
        {
          "output_type": "error",
          "ename": "SyntaxError",
          "evalue": "ignored",
          "traceback": [
            "\u001b[0;36m  File \u001b[0;32m\"<ipython-input-14-486bcde22132>\"\u001b[0;36m, line \u001b[0;32m1\u001b[0m\n\u001b[0;31m    class='dog'\u001b[0m\n\u001b[0m         ^\u001b[0m\n\u001b[0;31mSyntaxError\u001b[0m\u001b[0;31m:\u001b[0m invalid syntax\n"
          ]
        }
      ]
    },
    {
      "cell_type": "code",
      "source": [
        "klass ='dog'\n",
        "klass"
      ],
      "metadata": {
        "colab": {
          "base_uri": "https://localhost:8080/",
          "height": 35
        },
        "id": "Ee9YMf0Tkvxh",
        "outputId": "db92adb1-1085-4201-f465-d32d82bd171d"
      },
      "execution_count": null,
      "outputs": [
        {
          "output_type": "execute_result",
          "data": {
            "text/plain": [
              "'dog'"
            ],
            "application/vnd.google.colaboratory.intrinsic+json": {
              "type": "string"
            }
          },
          "metadata": {},
          "execution_count": 15
        }
      ]
    },
    {
      "cell_type": "code",
      "source": [
        "# If we would like to modify Line No.14 \n",
        "var_class=99\n",
        "var_class"
      ],
      "metadata": {
        "colab": {
          "base_uri": "https://localhost:8080/"
        },
        "id": "TcclEpzpkybh",
        "outputId": "33bb4698-bbc6-4aed-83b0-b87f4af69cba"
      },
      "execution_count": null,
      "outputs": [
        {
          "output_type": "execute_result",
          "data": {
            "text/plain": [
              "99"
            ]
          },
          "metadata": {},
          "execution_count": 16
        }
      ]
    },
    {
      "cell_type": "code",
      "source": [
        "class_var=99\n",
        "class_var"
      ],
      "metadata": {
        "colab": {
          "base_uri": "https://localhost:8080/"
        },
        "id": "a5hxtNVslBi0",
        "outputId": "68041a76-2eef-4bbd-8a04-0a83701fff49"
      },
      "execution_count": null,
      "outputs": [
        {
          "output_type": "execute_result",
          "data": {
            "text/plain": [
              "99"
            ]
          },
          "metadata": {},
          "execution_count": 17
        }
      ]
    },
    {
      "cell_type": "code",
      "source": [
        "# Can we Assign Object to a Variable?\n",
        "test_1 ='dog' # Object Assigned inside a vairable\n",
        "test_1"
      ],
      "metadata": {
        "colab": {
          "base_uri": "https://localhost:8080/",
          "height": 35
        },
        "id": "yS_ojNmglHgY",
        "outputId": "9bfe027f-36cd-4fcd-de97-f6ca8420d97f"
      },
      "execution_count": null,
      "outputs": [
        {
          "output_type": "execute_result",
          "data": {
            "text/plain": [
              "'dog'"
            ],
            "application/vnd.google.colaboratory.intrinsic+json": {
              "type": "string"
            }
          },
          "metadata": {},
          "execution_count": 18
        }
      ]
    },
    {
      "cell_type": "markdown",
      "source": [
        "Using User Defined Variables , We can perform any kind of math operation too"
      ],
      "metadata": {
        "id": "yybWUoEMlXri"
      }
    },
    {
      "cell_type": "code",
      "source": [
        "p=8\n",
        "q=9"
      ],
      "metadata": {
        "id": "Et6S_6GPlQPa"
      },
      "execution_count": null,
      "outputs": []
    },
    {
      "cell_type": "code",
      "source": [
        "p*q"
      ],
      "metadata": {
        "colab": {
          "base_uri": "https://localhost:8080/"
        },
        "id": "TKJp1UoEldP9",
        "outputId": "568708d8-841b-4472-806d-e8f979900993"
      },
      "execution_count": null,
      "outputs": [
        {
          "output_type": "execute_result",
          "data": {
            "text/plain": [
              "72"
            ]
          },
          "metadata": {},
          "execution_count": 21
        }
      ]
    },
    {
      "cell_type": "markdown",
      "source": [
        "Concept of Variables:\n",
        "\n",
        "\n",
        "*   Assignment Operator(=)\n",
        "*   ADD AND(+=)\n",
        "*   SUB AND(-=)\n",
        "*   Mulpli AND (*=)\n",
        "*   Divide AND( /=)\n",
        "*   Mod (%=)\n",
        "\n",
        "\n"
      ],
      "metadata": {
        "id": "0tGSGMMIlh-7"
      }
    },
    {
      "cell_type": "code",
      "source": [
        "x=10\n",
        "y=20\n",
        "z=0"
      ],
      "metadata": {
        "id": "gBEbXdapleMi"
      },
      "execution_count": null,
      "outputs": []
    },
    {
      "cell_type": "code",
      "source": [
        "z +=y # Smiliary -= can be excuted too\n",
        "z"
      ],
      "metadata": {
        "colab": {
          "base_uri": "https://localhost:8080/"
        },
        "id": "j88gtP9gl9CJ",
        "outputId": "e93832e8-ab46-4ba3-ad09-17df3c0da287"
      },
      "execution_count": null,
      "outputs": [
        {
          "output_type": "execute_result",
          "data": {
            "text/plain": [
              "50"
            ]
          },
          "metadata": {},
          "execution_count": 26
        }
      ]
    },
    {
      "cell_type": "code",
      "source": [
        "z *=y\n",
        "z"
      ],
      "metadata": {
        "colab": {
          "base_uri": "https://localhost:8080/"
        },
        "id": "kjYdVL3dmCVj",
        "outputId": "567433a9-b4ed-4bdd-fe10-89ad278f8b29"
      },
      "execution_count": null,
      "outputs": [
        {
          "output_type": "execute_result",
          "data": {
            "text/plain": [
              "1000"
            ]
          },
          "metadata": {},
          "execution_count": 27
        }
      ]
    },
    {
      "cell_type": "code",
      "source": [
        "z **=y\n",
        "z"
      ],
      "metadata": {
        "colab": {
          "base_uri": "https://localhost:8080/"
        },
        "id": "FVAa4CcKmX9x",
        "outputId": "8d549b78-8ea5-4ffc-ea3c-70933d2f38c1"
      },
      "execution_count": null,
      "outputs": [
        {
          "output_type": "execute_result",
          "data": {
            "text/plain": [
              "1000000000000000000000000000000000000000000000000000000000000"
            ]
          },
          "metadata": {},
          "execution_count": 28
        }
      ]
    },
    {
      "cell_type": "code",
      "source": [
        "z //=y\n",
        "z"
      ],
      "metadata": {
        "colab": {
          "base_uri": "https://localhost:8080/"
        },
        "id": "tdyJJZf6mbs2",
        "outputId": "9b032a87-5918-4076-9985-6c09da003dc7"
      },
      "execution_count": null,
      "outputs": [
        {
          "output_type": "execute_result",
          "data": {
            "text/plain": [
              "50000000000000000000000000000000000000000000000000000000000"
            ]
          },
          "metadata": {},
          "execution_count": 29
        }
      ]
    },
    {
      "cell_type": "markdown",
      "source": [
        "Concept of Unary Operator : It is performed on a single operand ( +,-)"
      ],
      "metadata": {
        "id": "wbANGAZNmhj6"
      }
    },
    {
      "cell_type": "code",
      "source": [
        "x=10\n",
        "print(\"unary positive operator\", +x)\n",
        "print(\"unary negative operator\", -x)"
      ],
      "metadata": {
        "colab": {
          "base_uri": "https://localhost:8080/"
        },
        "id": "qLfoa3xEmeXc",
        "outputId": "587896d9-ab74-4767-87ef-f196002a54fc"
      },
      "execution_count": null,
      "outputs": [
        {
          "output_type": "stream",
          "name": "stdout",
          "text": [
            "unary positive operator 10\n",
            "unary negative operator -10\n"
          ]
        }
      ]
    },
    {
      "cell_type": "markdown",
      "source": [
        "Bitwise Operator:\n",
        "x=26\n",
        "y=18"
      ],
      "metadata": {
        "id": "7nVkMLs6mz3L"
      }
    },
    {
      "cell_type": "code",
      "source": [
        "x=11010 # 26\n",
        "y = 10010 #18"
      ],
      "metadata": {
        "id": "PFMrpM8GmwiB"
      },
      "execution_count": null,
      "outputs": []
    },
    {
      "cell_type": "code",
      "source": [
        "x & y "
      ],
      "metadata": {
        "colab": {
          "base_uri": "https://localhost:8080/"
        },
        "id": "A_22OdNmm8Pz",
        "outputId": "1051863c-f983-418e-993d-bbd099b3e74d"
      },
      "execution_count": null,
      "outputs": [
        {
          "output_type": "execute_result",
          "data": {
            "text/plain": [
              "8962"
            ]
          },
          "metadata": {},
          "execution_count": 32
        }
      ]
    },
    {
      "cell_type": "code",
      "source": [
        "x=26\n",
        "y=18\n",
        "z=0"
      ],
      "metadata": {
        "id": "xRo6UAPEm94R"
      },
      "execution_count": null,
      "outputs": []
    },
    {
      "cell_type": "code",
      "source": [
        "z = x & y\n",
        "z"
      ],
      "metadata": {
        "colab": {
          "base_uri": "https://localhost:8080/"
        },
        "id": "NZprAXAqnGbD",
        "outputId": "819e6a64-5629-408d-b03c-26cdc2eb2395"
      },
      "execution_count": null,
      "outputs": [
        {
          "output_type": "execute_result",
          "data": {
            "text/plain": [
              "18"
            ]
          },
          "metadata": {},
          "execution_count": 34
        }
      ]
    },
    {
      "cell_type": "code",
      "source": [
        "z = x | y\n",
        "z"
      ],
      "metadata": {
        "colab": {
          "base_uri": "https://localhost:8080/"
        },
        "id": "JS8klR_enJsB",
        "outputId": "d4e8af9e-41d1-4013-90c1-c2ad55614274"
      },
      "execution_count": null,
      "outputs": [
        {
          "output_type": "execute_result",
          "data": {
            "text/plain": [
              "26"
            ]
          },
          "metadata": {},
          "execution_count": 35
        }
      ]
    },
    {
      "cell_type": "code",
      "source": [
        "z = x ^ y\n",
        "z"
      ],
      "metadata": {
        "colab": {
          "base_uri": "https://localhost:8080/"
        },
        "id": "ut9twqPFnM3V",
        "outputId": "e2a9f674-f493-47f4-c248-7d8933983846"
      },
      "execution_count": null,
      "outputs": [
        {
          "output_type": "execute_result",
          "data": {
            "text/plain": [
              "8"
            ]
          },
          "metadata": {},
          "execution_count": 36
        }
      ]
    },
    {
      "cell_type": "markdown",
      "source": [
        "Logical Operator"
      ],
      "metadata": {
        "id": "Wl32bdS7nTAf"
      }
    },
    {
      "cell_type": "code",
      "source": [
        "x =7"
      ],
      "metadata": {
        "id": "8sRgtyRpnQWL"
      },
      "execution_count": null,
      "outputs": []
    },
    {
      "cell_type": "code",
      "source": [
        "print(x > 3 and x < 10)"
      ],
      "metadata": {
        "colab": {
          "base_uri": "https://localhost:8080/"
        },
        "id": "93KhdRRFnVdJ",
        "outputId": "d6bb357a-656b-4886-e0ad-ed3bac8744a5"
      },
      "execution_count": null,
      "outputs": [
        {
          "output_type": "stream",
          "name": "stdout",
          "text": [
            "True\n"
          ]
        }
      ]
    },
    {
      "cell_type": "code",
      "source": [
        "print(x > 3 and x  < 4)"
      ],
      "metadata": {
        "colab": {
          "base_uri": "https://localhost:8080/"
        },
        "id": "VoOYrf2pnYc9",
        "outputId": "0227ade8-be66-4bb0-9778-b921ecdae8f3"
      },
      "execution_count": null,
      "outputs": [
        {
          "output_type": "stream",
          "name": "stdout",
          "text": [
            "False\n"
          ]
        }
      ]
    },
    {
      "cell_type": "code",
      "source": [
        "print(not(x > 3 and x < 10))"
      ],
      "metadata": {
        "colab": {
          "base_uri": "https://localhost:8080/"
        },
        "id": "bCoamq7GneT0",
        "outputId": "b3baee8c-a74c-48ae-b499-ce3dde7b899f"
      },
      "execution_count": null,
      "outputs": [
        {
          "output_type": "stream",
          "name": "stdout",
          "text": [
            "False\n"
          ]
        }
      ]
    },
    {
      "cell_type": "markdown",
      "source": [
        "Identity Operator: This Operator is used to compare the object not if they are equal but if they are the same object with the exact momoery location"
      ],
      "metadata": {
        "id": "O3E_vqTbnp5e"
      }
    },
    {
      "cell_type": "code",
      "source": [
        "x =[\"Amit\",\"Raj\"]\n",
        "y= [\"Amit\",\"Raj\"]\n",
        "z=x"
      ],
      "metadata": {
        "id": "0JAFS3CanmoK"
      },
      "execution_count": null,
      "outputs": []
    },
    {
      "cell_type": "code",
      "source": [
        "print(x is z)"
      ],
      "metadata": {
        "colab": {
          "base_uri": "https://localhost:8080/"
        },
        "id": "nOa9IoW_n6_B",
        "outputId": "c87ccac8-ad66-4fb6-fb16-0529899d76fc"
      },
      "execution_count": null,
      "outputs": [
        {
          "output_type": "stream",
          "name": "stdout",
          "text": [
            "True\n"
          ]
        }
      ]
    },
    {
      "cell_type": "code",
      "source": [
        "print( y is z)"
      ],
      "metadata": {
        "colab": {
          "base_uri": "https://localhost:8080/"
        },
        "id": "d6L_UIrbn8w9",
        "outputId": "d9086f85-a940-42b3-952e-a722c4d7abed"
      },
      "execution_count": null,
      "outputs": [
        {
          "output_type": "stream",
          "name": "stdout",
          "text": [
            "False\n"
          ]
        }
      ]
    },
    {
      "cell_type": "code",
      "source": [
        "print( x==y)"
      ],
      "metadata": {
        "colab": {
          "base_uri": "https://localhost:8080/"
        },
        "id": "yv67TlHMn_ER",
        "outputId": "c12be5a8-f32b-4d8e-d8f6-c16c8f726f27"
      },
      "execution_count": null,
      "outputs": [
        {
          "output_type": "stream",
          "name": "stdout",
          "text": [
            "True\n"
          ]
        }
      ]
    },
    {
      "cell_type": "code",
      "source": [
        "print(x is not y)"
      ],
      "metadata": {
        "colab": {
          "base_uri": "https://localhost:8080/"
        },
        "id": "lblfAa_ZoBkm",
        "outputId": "ce028ea9-c2e2-411d-be9a-9bbf6119c049"
      },
      "execution_count": null,
      "outputs": [
        {
          "output_type": "stream",
          "name": "stdout",
          "text": [
            "True\n"
          ]
        }
      ]
    },
    {
      "cell_type": "markdown",
      "source": [
        "Operator Precedence: Which Operator Should be Executed First ( Based on Priority) \n",
        "2*4 + 6 = 2*4 "
      ],
      "metadata": {
        "id": "3lOXoJ3noRzC"
      }
    },
    {
      "cell_type": "code",
      "source": [
        "x=12\n",
        "y=14\n",
        "x=15\n",
        "p=6\n",
        "q=0"
      ],
      "metadata": {
        "id": "D0Y76KsioDuy"
      },
      "execution_count": null,
      "outputs": []
    },
    {
      "cell_type": "code",
      "source": [
        "q = (x+y) * x/p\n",
        "print(q)"
      ],
      "metadata": {
        "colab": {
          "base_uri": "https://localhost:8080/"
        },
        "id": "L66pqJQJog4M",
        "outputId": "30fc8d92-cf3a-46a6-ccca-c7d9f87e5f3e"
      },
      "execution_count": null,
      "outputs": [
        {
          "output_type": "stream",
          "name": "stdout",
          "text": [
            "72.5\n"
          ]
        }
      ]
    },
    {
      "cell_type": "markdown",
      "source": [
        "**Expression in Python**\n",
        "\n",
        "\n",
        "*   Identifier\n",
        "*   Literals\n",
        "*   Operators \n",
        "\n"
      ],
      "metadata": {
        "id": "coGsInNvosI9"
      }
    },
    {
      "cell_type": "code",
      "source": [
        "a = 9\n",
        "b = 12\n",
        "c = 3"
      ],
      "metadata": {
        "id": "J4EIxx4momeK"
      },
      "execution_count": null,
      "outputs": []
    },
    {
      "cell_type": "code",
      "source": [
        "x = a-b / 3+c*2-1\n",
        "x"
      ],
      "metadata": {
        "colab": {
          "base_uri": "https://localhost:8080/"
        },
        "id": "_Zvu-bplo64Y",
        "outputId": "89d2e4ba-39f3-4349-905b-e19bc0c12cc9"
      },
      "execution_count": null,
      "outputs": [
        {
          "output_type": "execute_result",
          "data": {
            "text/plain": [
              "10.0"
            ]
          },
          "metadata": {},
          "execution_count": 49
        }
      ]
    },
    {
      "cell_type": "markdown",
      "source": [
        "Concept of String "
      ],
      "metadata": {
        "id": "UBuz7Gw3pIZC"
      }
    },
    {
      "cell_type": "code",
      "source": [
        "'String'"
      ],
      "metadata": {
        "colab": {
          "base_uri": "https://localhost:8080/",
          "height": 35
        },
        "id": "p7cbet4Do-_D",
        "outputId": "8e35e80a-e8bd-45ff-c3c5-345a20f9eaef"
      },
      "execution_count": null,
      "outputs": [
        {
          "output_type": "execute_result",
          "data": {
            "text/plain": [
              "'String'"
            ],
            "application/vnd.google.colaboratory.intrinsic+json": {
              "type": "string"
            }
          },
          "metadata": {},
          "execution_count": 50
        }
      ]
    },
    {
      "cell_type": "code",
      "source": [
        "\"String\""
      ],
      "metadata": {
        "colab": {
          "base_uri": "https://localhost:8080/",
          "height": 35
        },
        "id": "8FW55FZKpLgm",
        "outputId": "72e98e54-5860-4990-c94e-beb16a9f13ea"
      },
      "execution_count": null,
      "outputs": [
        {
          "output_type": "execute_result",
          "data": {
            "text/plain": [
              "'String'"
            ],
            "application/vnd.google.colaboratory.intrinsic+json": {
              "type": "string"
            }
          },
          "metadata": {},
          "execution_count": 51
        }
      ]
    },
    {
      "cell_type": "code",
      "source": [
        "# Assign a String inside a Variable \n",
        "string1 = 'string'\n",
        "string1"
      ],
      "metadata": {
        "colab": {
          "base_uri": "https://localhost:8080/",
          "height": 35
        },
        "id": "Lh6EqJO2pM25",
        "outputId": "060e00b9-5827-499e-9141-9094e6a362bd"
      },
      "execution_count": null,
      "outputs": [
        {
          "output_type": "execute_result",
          "data": {
            "text/plain": [
              "'string'"
            ],
            "application/vnd.google.colaboratory.intrinsic+json": {
              "type": "string"
            }
          },
          "metadata": {},
          "execution_count": 52
        }
      ]
    },
    {
      "cell_type": "code",
      "source": [
        "string2 = \"string\"\n",
        "string2"
      ],
      "metadata": {
        "colab": {
          "base_uri": "https://localhost:8080/",
          "height": 35
        },
        "id": "eev9FfE-pZHv",
        "outputId": "d8486f81-8857-48e1-f94c-eee71c792c4f"
      },
      "execution_count": null,
      "outputs": [
        {
          "output_type": "execute_result",
          "data": {
            "text/plain": [
              "'string'"
            ],
            "application/vnd.google.colaboratory.intrinsic+json": {
              "type": "string"
            }
          },
          "metadata": {},
          "execution_count": 53
        }
      ]
    },
    {
      "cell_type": "markdown",
      "source": [
        "Accessing Values in String"
      ],
      "metadata": {
        "id": "6WoL4UNlpijJ"
      }
    },
    {
      "cell_type": "code",
      "source": [
        "str1=\"Python Programming\"\n",
        "str2='Computer Science'"
      ],
      "metadata": {
        "id": "PVm4kAbZpcVf"
      },
      "execution_count": null,
      "outputs": []
    },
    {
      "cell_type": "code",
      "source": [
        "print(str1[0])\n",
        "print(str2[1])"
      ],
      "metadata": {
        "colab": {
          "base_uri": "https://localhost:8080/"
        },
        "id": "LVPdWSYEpn2j",
        "outputId": "f93f58e7-3cb4-490f-ba6b-55721cadc53b"
      },
      "execution_count": null,
      "outputs": [
        {
          "output_type": "stream",
          "name": "stdout",
          "text": [
            "P\n",
            "o\n"
          ]
        }
      ]
    },
    {
      "cell_type": "code",
      "source": [
        "str3 = 'string'\n",
        "str3"
      ],
      "metadata": {
        "colab": {
          "base_uri": "https://localhost:8080/",
          "height": 35
        },
        "id": "bAQRmoEjptM5",
        "outputId": "e1eae157-edd2-42f4-fa80-a7e0f8f50519"
      },
      "execution_count": null,
      "outputs": [
        {
          "output_type": "execute_result",
          "data": {
            "text/plain": [
              "'string'"
            ],
            "application/vnd.google.colaboratory.intrinsic+json": {
              "type": "string"
            }
          },
          "metadata": {},
          "execution_count": 57
        }
      ]
    },
    {
      "cell_type": "markdown",
      "source": [
        "s=0, t=1 , r=2, i=3, n=4, g=5"
      ],
      "metadata": {
        "id": "Iti-3DUnp42d"
      }
    },
    {
      "cell_type": "code",
      "source": [
        "str3[5]"
      ],
      "metadata": {
        "colab": {
          "base_uri": "https://localhost:8080/",
          "height": 35
        },
        "id": "ThtBxHfOp3RT",
        "outputId": "02cd1bdc-36fb-421f-cc4c-aa52b86863c1"
      },
      "execution_count": null,
      "outputs": [
        {
          "output_type": "execute_result",
          "data": {
            "text/plain": [
              "'g'"
            ],
            "application/vnd.google.colaboratory.intrinsic+json": {
              "type": "string"
            }
          },
          "metadata": {},
          "execution_count": 59
        }
      ]
    },
    {
      "cell_type": "code",
      "source": [
        "str3[-1]"
      ],
      "metadata": {
        "colab": {
          "base_uri": "https://localhost:8080/",
          "height": 35
        },
        "id": "E0wa2edip9gq",
        "outputId": "705915cf-eac1-46c4-e12b-d5605d3b0a60"
      },
      "execution_count": null,
      "outputs": [
        {
          "output_type": "execute_result",
          "data": {
            "text/plain": [
              "'g'"
            ],
            "application/vnd.google.colaboratory.intrinsic+json": {
              "type": "string"
            }
          },
          "metadata": {},
          "execution_count": 60
        }
      ]
    },
    {
      "cell_type": "code",
      "source": [
        "str3[-2]"
      ],
      "metadata": {
        "colab": {
          "base_uri": "https://localhost:8080/",
          "height": 35
        },
        "id": "Ci7SpPGwqFWQ",
        "outputId": "786b935a-5c68-4c4c-cfaf-51b98da0aa9d"
      },
      "execution_count": null,
      "outputs": [
        {
          "output_type": "execute_result",
          "data": {
            "text/plain": [
              "'n'"
            ],
            "application/vnd.google.colaboratory.intrinsic+json": {
              "type": "string"
            }
          },
          "metadata": {},
          "execution_count": 62
        }
      ]
    },
    {
      "cell_type": "code",
      "source": [
        "str3[4]"
      ],
      "metadata": {
        "colab": {
          "base_uri": "https://localhost:8080/",
          "height": 35
        },
        "id": "72ZmMcylqH9V",
        "outputId": "2c02bd50-8ead-4089-a7ae-1cbeb3ebf576"
      },
      "execution_count": null,
      "outputs": [
        {
          "output_type": "execute_result",
          "data": {
            "text/plain": [
              "'n'"
            ],
            "application/vnd.google.colaboratory.intrinsic+json": {
              "type": "string"
            }
          },
          "metadata": {},
          "execution_count": 61
        }
      ]
    },
    {
      "cell_type": "markdown",
      "source": [
        "If We Start Considering Indexing from left to Right Hand Order we can calculcate from 0th Index , But if start Calculate from right to left hands order we have to start calculation from -1th Index ( this is called -ve indexing) "
      ],
      "metadata": {
        "id": "WrKU7_oNqNl-"
      }
    },
    {
      "cell_type": "code",
      "source": [
        "str3"
      ],
      "metadata": {
        "colab": {
          "base_uri": "https://localhost:8080/",
          "height": 35
        },
        "id": "pdgK9ppjqJO6",
        "outputId": "108d9a77-d9de-46d0-a66e-ff307549f4eb"
      },
      "execution_count": null,
      "outputs": [
        {
          "output_type": "execute_result",
          "data": {
            "text/plain": [
              "'string'"
            ],
            "application/vnd.google.colaboratory.intrinsic+json": {
              "type": "string"
            }
          },
          "metadata": {},
          "execution_count": 63
        }
      ]
    },
    {
      "cell_type": "code",
      "source": [
        "str3[1:]"
      ],
      "metadata": {
        "colab": {
          "base_uri": "https://localhost:8080/",
          "height": 35
        },
        "id": "ogJkDityqgyW",
        "outputId": "03b8ca12-0e98-462e-ac21-f09c01a3c143"
      },
      "execution_count": null,
      "outputs": [
        {
          "output_type": "execute_result",
          "data": {
            "text/plain": [
              "'tring'"
            ],
            "application/vnd.google.colaboratory.intrinsic+json": {
              "type": "string"
            }
          },
          "metadata": {},
          "execution_count": 64
        }
      ]
    },
    {
      "cell_type": "code",
      "source": [
        "str3[:1]"
      ],
      "metadata": {
        "colab": {
          "base_uri": "https://localhost:8080/",
          "height": 35
        },
        "id": "T2Fm3T6iqiqy",
        "outputId": "4af30379-fffd-45a1-98fb-143aa11bd249"
      },
      "execution_count": null,
      "outputs": [
        {
          "output_type": "execute_result",
          "data": {
            "text/plain": [
              "'s'"
            ],
            "application/vnd.google.colaboratory.intrinsic+json": {
              "type": "string"
            }
          },
          "metadata": {},
          "execution_count": 65
        }
      ]
    },
    {
      "cell_type": "code",
      "source": [
        "str3[2:] #string"
      ],
      "metadata": {
        "colab": {
          "base_uri": "https://localhost:8080/",
          "height": 35
        },
        "id": "4ThkXqrCqkcg",
        "outputId": "ce2f551e-9dd6-4fba-df20-ed0c6eb612aa"
      },
      "execution_count": null,
      "outputs": [
        {
          "output_type": "execute_result",
          "data": {
            "text/plain": [
              "'ring'"
            ],
            "application/vnd.google.colaboratory.intrinsic+json": {
              "type": "string"
            }
          },
          "metadata": {},
          "execution_count": 66
        }
      ]
    },
    {
      "cell_type": "code",
      "source": [
        "str3[:2] #string"
      ],
      "metadata": {
        "colab": {
          "base_uri": "https://localhost:8080/",
          "height": 35
        },
        "id": "iAolEufZq_mk",
        "outputId": "0b060955-7afe-4bcc-ec3e-6b2f73ef93fb"
      },
      "execution_count": null,
      "outputs": [
        {
          "output_type": "execute_result",
          "data": {
            "text/plain": [
              "'st'"
            ],
            "application/vnd.google.colaboratory.intrinsic+json": {
              "type": "string"
            }
          },
          "metadata": {},
          "execution_count": 67
        }
      ]
    },
    {
      "cell_type": "code",
      "source": [
        "str3[1:2]"
      ],
      "metadata": {
        "colab": {
          "base_uri": "https://localhost:8080/",
          "height": 35
        },
        "id": "WjwWxulcrEyY",
        "outputId": "949157b9-08df-4f30-b95a-2175fa7c2cf2"
      },
      "execution_count": null,
      "outputs": [
        {
          "output_type": "execute_result",
          "data": {
            "text/plain": [
              "'t'"
            ],
            "application/vnd.google.colaboratory.intrinsic+json": {
              "type": "string"
            }
          },
          "metadata": {},
          "execution_count": 68
        }
      ]
    },
    {
      "cell_type": "markdown",
      "source": [
        "Triple Quote: Writing a String in a Multiple Lines, Simple USe Three Times"
      ],
      "metadata": {
        "id": "FDbZve1irU6k"
      }
    },
    {
      "cell_type": "code",
      "source": [
        "bio_auth=\"\"\" Dr. Radhakrishnan Was a Greate Educator\n",
        "I am Sure that all students must read his life history\"\"\"\n",
        "bio_auth"
      ],
      "metadata": {
        "colab": {
          "base_uri": "https://localhost:8080/",
          "height": 53
        },
        "id": "0nmDQR8arMCI",
        "outputId": "e11449ae-d5ea-4a57-d477-da78011f6dc4"
      },
      "execution_count": null,
      "outputs": [
        {
          "output_type": "execute_result",
          "data": {
            "text/plain": [
              "' Dr. Radhakrishnan Was a Greate Educator\\nI am Sure that all students must read his life history'"
            ],
            "application/vnd.google.colaboratory.intrinsic+json": {
              "type": "string"
            }
          },
          "metadata": {},
          "execution_count": 70
        }
      ]
    },
    {
      "cell_type": "code",
      "source": [
        "t1='dog'"
      ],
      "metadata": {
        "id": "JezGQ64GrglJ"
      },
      "execution_count": null,
      "outputs": []
    },
    {
      "cell_type": "code",
      "source": [
        "t1"
      ],
      "metadata": {
        "colab": {
          "base_uri": "https://localhost:8080/",
          "height": 35
        },
        "id": "kh4i9obmrzmI",
        "outputId": "29e05b53-e277-4f71-b289-fdbe71c7fb93"
      },
      "execution_count": null,
      "outputs": [
        {
          "output_type": "execute_result",
          "data": {
            "text/plain": [
              "'dog'"
            ],
            "application/vnd.google.colaboratory.intrinsic+json": {
              "type": "string"
            }
          },
          "metadata": {},
          "execution_count": 72
        }
      ]
    },
    {
      "cell_type": "code",
      "source": [
        "print(t1)"
      ],
      "metadata": {
        "colab": {
          "base_uri": "https://localhost:8080/"
        },
        "id": "RxNbhFjur0me",
        "outputId": "333440d5-c478-4e04-e84d-87a3233654a9"
      },
      "execution_count": null,
      "outputs": [
        {
          "output_type": "stream",
          "name": "stdout",
          "text": [
            "dog\n"
          ]
        }
      ]
    },
    {
      "cell_type": "code",
      "source": [
        "bio_auth.upper() # upper is built in function"
      ],
      "metadata": {
        "colab": {
          "base_uri": "https://localhost:8080/",
          "height": 53
        },
        "id": "Orb5uA7br277",
        "outputId": "8bebab1a-a4e3-4f6a-a0a3-03a8401f27a0"
      },
      "execution_count": null,
      "outputs": [
        {
          "output_type": "execute_result",
          "data": {
            "text/plain": [
              "' DR. RADHAKRISHNAN WAS A GREATE EDUCATOR\\nI AM SURE THAT ALL STUDENTS MUST READ HIS LIFE HISTORY'"
            ],
            "application/vnd.google.colaboratory.intrinsic+json": {
              "type": "string"
            }
          },
          "metadata": {},
          "execution_count": 75
        }
      ]
    },
    {
      "cell_type": "code",
      "source": [
        "t2 = 'Welcome to Cricket Session #IPL2022'\n",
        "t2"
      ],
      "metadata": {
        "colab": {
          "base_uri": "https://localhost:8080/",
          "height": 35
        },
        "id": "N80smOn6sBVt",
        "outputId": "e556c80b-24dd-440e-f29c-9c1854fac3af"
      },
      "execution_count": null,
      "outputs": [
        {
          "output_type": "execute_result",
          "data": {
            "text/plain": [
              "'Welcome to Cricket Session #IPL2022'"
            ],
            "application/vnd.google.colaboratory.intrinsic+json": {
              "type": "string"
            }
          },
          "metadata": {},
          "execution_count": 76
        }
      ]
    },
    {
      "cell_type": "code",
      "source": [
        "t2.upper()"
      ],
      "metadata": {
        "colab": {
          "base_uri": "https://localhost:8080/",
          "height": 35
        },
        "id": "n4DYIMNHsMBE",
        "outputId": "d2028d27-0047-4feb-b9f8-6ddc706c041d"
      },
      "execution_count": null,
      "outputs": [
        {
          "output_type": "execute_result",
          "data": {
            "text/plain": [
              "'WELCOME TO CRICKET SESSION #IPL2022'"
            ],
            "application/vnd.google.colaboratory.intrinsic+json": {
              "type": "string"
            }
          },
          "metadata": {},
          "execution_count": 77
        }
      ]
    },
    {
      "cell_type": "code",
      "source": [
        "t2.lower()"
      ],
      "metadata": {
        "colab": {
          "base_uri": "https://localhost:8080/",
          "height": 35
        },
        "id": "14J-qT00sNcq",
        "outputId": "8080f4d3-e9ce-4010-c076-fd971c53e664"
      },
      "execution_count": null,
      "outputs": [
        {
          "output_type": "execute_result",
          "data": {
            "text/plain": [
              "'welcome to cricket session #ipl2022'"
            ],
            "application/vnd.google.colaboratory.intrinsic+json": {
              "type": "string"
            }
          },
          "metadata": {},
          "execution_count": 79
        }
      ]
    },
    {
      "cell_type": "code",
      "source": [
        "t2.split()"
      ],
      "metadata": {
        "colab": {
          "base_uri": "https://localhost:8080/"
        },
        "id": "VhNmvervsO5e",
        "outputId": "c1c23fad-b338-4978-bbae-0a1120e39c3f"
      },
      "execution_count": null,
      "outputs": [
        {
          "output_type": "execute_result",
          "data": {
            "text/plain": [
              "['Welcome', 'to', 'Cricket', 'Session', '#IPL2022']"
            ]
          },
          "metadata": {},
          "execution_count": 80
        }
      ]
    },
    {
      "cell_type": "code",
      "source": [
        "t2.split(\"#\") #Split Mostly Used to Remove Unwanted Character Easliy"
      ],
      "metadata": {
        "colab": {
          "base_uri": "https://localhost:8080/"
        },
        "id": "I_tZSKDXsSoz",
        "outputId": "907ba3fc-1308-492b-cdfb-525aa9c4c804"
      },
      "execution_count": null,
      "outputs": [
        {
          "output_type": "execute_result",
          "data": {
            "text/plain": [
              "['Welcome to Cricket Session ', 'IPL2022']"
            ]
          },
          "metadata": {},
          "execution_count": 81
        }
      ]
    },
    {
      "cell_type": "markdown",
      "source": [
        "Implicity Type"
      ],
      "metadata": {
        "id": "RKupX75bstai"
      }
    },
    {
      "cell_type": "code",
      "source": [
        "num_int = 234\n",
        "num_float=23.4"
      ],
      "metadata": {
        "id": "iVNIPGTzshwn"
      },
      "execution_count": null,
      "outputs": []
    },
    {
      "cell_type": "code",
      "source": [
        "num_new = num_int + num_float\n",
        "num_new"
      ],
      "metadata": {
        "colab": {
          "base_uri": "https://localhost:8080/"
        },
        "id": "kG_ppvtdsyWh",
        "outputId": "d951a529-4fa6-4fe3-fda5-9ad698a591cb"
      },
      "execution_count": null,
      "outputs": [
        {
          "output_type": "execute_result",
          "data": {
            "text/plain": [
              "257.4"
            ]
          },
          "metadata": {},
          "execution_count": 84
        }
      ]
    },
    {
      "cell_type": "code",
      "source": [
        "print(type(num_int))\n",
        "print(type(num_float))"
      ],
      "metadata": {
        "colab": {
          "base_uri": "https://localhost:8080/"
        },
        "id": "TOvWMRkfs3zl",
        "outputId": "ca22118c-6148-4d2e-e03f-cbce8e3b82c8"
      },
      "execution_count": null,
      "outputs": [
        {
          "output_type": "stream",
          "name": "stdout",
          "text": [
            "<class 'int'>\n",
            "<class 'float'>\n"
          ]
        }
      ]
    },
    {
      "cell_type": "markdown",
      "source": [
        "Explcit Type: Need to be Defined by the use directly"
      ],
      "metadata": {
        "id": "-mBJJk5ztD_L"
      }
    },
    {
      "cell_type": "code",
      "source": [
        "num_int = 234\n",
        "num_float='234'"
      ],
      "metadata": {
        "id": "37E0PBQLs8qr"
      },
      "execution_count": null,
      "outputs": []
    },
    {
      "cell_type": "code",
      "source": [
        "num_new_1=num_int + num_float\n",
        "num_new_1"
      ],
      "metadata": {
        "colab": {
          "base_uri": "https://localhost:8080/",
          "height": 182
        },
        "id": "OAPAu4TjtO64",
        "outputId": "03061ebe-4aac-467a-b0ae-61e94e76f7c6"
      },
      "execution_count": null,
      "outputs": [
        {
          "output_type": "error",
          "ename": "TypeError",
          "evalue": "ignored",
          "traceback": [
            "\u001b[0;31m---------------------------------------------------------------------------\u001b[0m",
            "\u001b[0;31mTypeError\u001b[0m                                 Traceback (most recent call last)",
            "\u001b[0;32m<ipython-input-88-7b89ac538d71>\u001b[0m in \u001b[0;36m<module>\u001b[0;34m()\u001b[0m\n\u001b[0;32m----> 1\u001b[0;31m \u001b[0mnum_new_1\u001b[0m\u001b[0;34m=\u001b[0m\u001b[0mnum_int\u001b[0m \u001b[0;34m+\u001b[0m \u001b[0mnum_float\u001b[0m\u001b[0;34m\u001b[0m\u001b[0;34m\u001b[0m\u001b[0m\n\u001b[0m\u001b[1;32m      2\u001b[0m \u001b[0mnum_new_1\u001b[0m\u001b[0;34m\u001b[0m\u001b[0;34m\u001b[0m\u001b[0m\n",
            "\u001b[0;31mTypeError\u001b[0m: unsupported operand type(s) for +: 'int' and 'str'"
          ]
        }
      ]
    },
    {
      "cell_type": "code",
      "source": [
        "#num_float_updated = int(num_float)\n",
        "num_float_updated = float(num_float)\n",
        "num_float_updated"
      ],
      "metadata": {
        "colab": {
          "base_uri": "https://localhost:8080/"
        },
        "id": "3J_K3c_VtTIK",
        "outputId": "1fc1c8af-748b-4938-edbc-9885c57a61a9"
      },
      "execution_count": null,
      "outputs": [
        {
          "output_type": "execute_result",
          "data": {
            "text/plain": [
              "234.0"
            ]
          },
          "metadata": {},
          "execution_count": 91
        }
      ]
    },
    {
      "cell_type": "code",
      "source": [
        "num_new_1=num_int + num_float_updated\n",
        "num_new_1"
      ],
      "metadata": {
        "colab": {
          "base_uri": "https://localhost:8080/"
        },
        "id": "RMCaSG4Pta1R",
        "outputId": "fd056af6-2747-4b1b-86a8-fd3f8a4553d7"
      },
      "execution_count": null,
      "outputs": [
        {
          "output_type": "execute_result",
          "data": {
            "text/plain": [
              "468.0"
            ]
          },
          "metadata": {},
          "execution_count": 92
        }
      ]
    },
    {
      "cell_type": "markdown",
      "source": [
        "Concept of Function:\n",
        "\n",
        "1.   User Defined\n",
        "2.   Built in \n",
        "** To Define a Function We must Start with def keyword**\n",
        "\n"
      ],
      "metadata": {
        "id": "SE9JAcIntr0P"
      }
    },
    {
      "cell_type": "code",
      "source": [
        "def fun_name(str): # Function Define\n",
        "  print(str)\n",
        "  return;"
      ],
      "metadata": {
        "id": "zMnFxh2DteIu"
      },
      "execution_count": null,
      "outputs": []
    },
    {
      "cell_type": "code",
      "source": [
        "fun_name(\"Welcome to Function in Python\")"
      ],
      "metadata": {
        "colab": {
          "base_uri": "https://localhost:8080/"
        },
        "id": "A5S1CDPpuBjP",
        "outputId": "ebe5ad9f-d821-4dcf-b43e-5403e5e5dfa8"
      },
      "execution_count": null,
      "outputs": [
        {
          "output_type": "stream",
          "name": "stdout",
          "text": [
            "Welcome to Function in Python\n"
          ]
        }
      ]
    },
    {
      "cell_type": "markdown",
      "source": [
        "**Control Flow Statement**\n",
        "\n",
        "1.   Sequential ( Line By Line )\n",
        "2.   Selection ( if , if-else etc)\n",
        "3.   Repeitition (for loop, while loop etc)\n",
        "\n"
      ],
      "metadata": {
        "id": "2vBF04V7ubsW"
      }
    },
    {
      "cell_type": "code",
      "source": [
        "#Example of Sequencetial\n",
        "a=5\n",
        "b=6\n",
        "c=7\n",
        "# Calculate the Semi Perimeter of a triangle\n",
        "s=(a+b+c)/2\n",
        "s"
      ],
      "metadata": {
        "colab": {
          "base_uri": "https://localhost:8080/"
        },
        "id": "ELULdZ-4uG0I",
        "outputId": "25a5d894-8766-4fb7-b31c-a19d6d6518b4"
      },
      "execution_count": null,
      "outputs": [
        {
          "output_type": "execute_result",
          "data": {
            "text/plain": [
              "9.0"
            ]
          },
          "metadata": {},
          "execution_count": 96
        }
      ]
    },
    {
      "cell_type": "code",
      "source": [
        "# Selection Control Statement: Considered as Decision Control as well as\n",
        "# Branching Statement too"
      ],
      "metadata": {
        "id": "of93-30Ju0KR"
      },
      "execution_count": null,
      "outputs": []
    },
    {
      "cell_type": "code",
      "source": [
        "n = 17\n",
        "if n > 0:\n",
        "  print(n,\"is a positive number\")"
      ],
      "metadata": {
        "colab": {
          "base_uri": "https://localhost:8080/"
        },
        "id": "jrQXjm_Du_is",
        "outputId": "6aed0ece-8d46-49f2-9adf-7602dd3625ee"
      },
      "execution_count": null,
      "outputs": [
        {
          "output_type": "stream",
          "name": "stdout",
          "text": [
            "17 is a positive number\n"
          ]
        }
      ]
    },
    {
      "cell_type": "code",
      "source": [
        "n = 117\n",
        "if n > 0:\n",
        "  print(n,\"is a negative number\")"
      ],
      "metadata": {
        "colab": {
          "base_uri": "https://localhost:8080/"
        },
        "id": "74tx0Iy-vFur",
        "outputId": "061ba2df-66d2-481b-8e07-de449b1a06e2"
      },
      "execution_count": null,
      "outputs": [
        {
          "output_type": "stream",
          "name": "stdout",
          "text": [
            "117 is a negative number\n"
          ]
        }
      ]
    },
    {
      "cell_type": "code",
      "source": [
        "n1=23\n",
        "n2=26\n",
        "if n2>n1:\n",
        "  print(\"n2 is greater than n1\")\n",
        "if n2<n1:\n",
        "  print(\"n2 is less than n1\")\n",
        "if n2==n1:\n",
        "  print(\"n1 and n2 are equal\")    "
      ],
      "metadata": {
        "colab": {
          "base_uri": "https://localhost:8080/"
        },
        "id": "a26VPp5lvLi_",
        "outputId": "b20f7ced-b530-4fb3-95ed-698afb46eb36"
      },
      "execution_count": null,
      "outputs": [
        {
          "output_type": "stream",
          "name": "stdout",
          "text": [
            "n2 is greater than n1\n"
          ]
        }
      ]
    },
    {
      "cell_type": "markdown",
      "source": [
        "In C Programming we used if , else-if and else , in case of python we have to use if , elif and else ( instead of else-if we will use elif)"
      ],
      "metadata": {
        "id": "M3BZa16Wvloa"
      }
    },
    {
      "cell_type": "code",
      "source": [
        "if 3>5:\n",
        "  print('1st Statment is Correct')\n",
        "elif 3==3:\n",
        "  print('2nd Statement is Correct')\n",
        "elif 4==4:\n",
        "  print('3rd Statement is Correct')\n",
        "else:\n",
        "  print(\"Stop the Program\")      "
      ],
      "metadata": {
        "colab": {
          "base_uri": "https://localhost:8080/"
        },
        "id": "J6wbMRQ6vgMS",
        "outputId": "1c193bd4-11c2-4eff-9ba4-7323c695e164"
      },
      "execution_count": null,
      "outputs": [
        {
          "output_type": "stream",
          "name": "stdout",
          "text": [
            "2nd Statement is Correct\n"
          ]
        }
      ]
    },
    {
      "cell_type": "code",
      "source": [
        "if 3>5:\n",
        "  print('1st Statment is Correct')\n",
        "elif 3==4:\n",
        "  print('2nd Statement is Correct')\n",
        "elif 4==4:\n",
        "  print('3rd Statement is Correct')\n",
        "elif 5==5:\n",
        "  print('4th Statement is Correct') \n",
        "else:\n",
        "  print(\"Stop the Program\")  "
      ],
      "metadata": {
        "colab": {
          "base_uri": "https://localhost:8080/"
        },
        "id": "xb2kr8wdwAwS",
        "outputId": "a92c1fbc-032b-4e60-984b-90df155c6aa0"
      },
      "execution_count": null,
      "outputs": [
        {
          "output_type": "stream",
          "name": "stdout",
          "text": [
            "3rd Statement is Correct\n"
          ]
        }
      ]
    },
    {
      "cell_type": "markdown",
      "source": [
        "In Case of elif , It will Consider First Correct Statement only , Rest all will not be executed as well as will not produce any error too"
      ],
      "metadata": {
        "id": "LfMdAwVBweOL"
      }
    },
    {
      "cell_type": "code",
      "source": [
        "price =50\n",
        "if price >100:\n",
        "  print(\"Price is greater than 100\")\n",
        "elif price==100:\n",
        "  print(\"price is 100\")\n",
        "else:\n",
        "  print('price is less than 100')    "
      ],
      "metadata": {
        "colab": {
          "base_uri": "https://localhost:8080/"
        },
        "id": "UgznNcocwQ2h",
        "outputId": "2e67e6e7-0594-4439-b688-38b4f09e7288"
      },
      "execution_count": null,
      "outputs": [
        {
          "output_type": "stream",
          "name": "stdout",
          "text": [
            "price is less than 100\n"
          ]
        }
      ]
    },
    {
      "cell_type": "markdown",
      "source": [
        "Nested Concept"
      ],
      "metadata": {
        "id": "vepL28Q9xPYa"
      }
    },
    {
      "cell_type": "code",
      "source": [
        "n = 23\n",
        "if n>=0:\n",
        "  if n == 0:\n",
        "    print(\"Zero\")\n",
        "  else:\n",
        "    print(\"Positive Number\")\n",
        "else:\n",
        "  print(\"Negative Number\")      \n"
      ],
      "metadata": {
        "colab": {
          "base_uri": "https://localhost:8080/"
        },
        "id": "qExRHDJqxCnJ",
        "outputId": "3d8b383f-9d37-49d6-f976-78793315c9a3"
      },
      "execution_count": null,
      "outputs": [
        {
          "output_type": "stream",
          "name": "stdout",
          "text": [
            "Positive Number\n"
          ]
        }
      ]
    },
    {
      "cell_type": "code",
      "source": [
        "x=32\n",
        "if x > 10:\n",
        "  print(\"Above ten\")\n",
        "\n",
        "  if x >20:\n",
        "    print(\"and also above 20\")\n",
        "  else:\n",
        "    print(\"but not above 20\")  "
      ],
      "metadata": {
        "colab": {
          "base_uri": "https://localhost:8080/"
        },
        "id": "lohztfvxxdvW",
        "outputId": "e03cae61-646b-4fdb-ae20-3c6f5c53be88"
      },
      "execution_count": null,
      "outputs": [
        {
          "output_type": "stream",
          "name": "stdout",
          "text": [
            "Above ten\n",
            "and also above 20\n"
          ]
        }
      ]
    },
    {
      "cell_type": "code",
      "source": [
        "# How to Assign List in Python\n",
        "lst= [1,2,3,]\n",
        "lst"
      ],
      "metadata": {
        "colab": {
          "base_uri": "https://localhost:8080/"
        },
        "id": "6iDyTPa5xz8W",
        "outputId": "a658a4b2-15f8-4916-9122-e9bf52cc883a"
      },
      "execution_count": null,
      "outputs": [
        {
          "output_type": "execute_result",
          "data": {
            "text/plain": [
              "[1, 2, 3]"
            ]
          },
          "metadata": {},
          "execution_count": 107
        }
      ]
    },
    {
      "cell_type": "code",
      "source": [
        "lst_1 =['a','b','c']\n",
        "lst_1"
      ],
      "metadata": {
        "colab": {
          "base_uri": "https://localhost:8080/"
        },
        "id": "to3Ql4Rw2onk",
        "outputId": "d650e14a-b71a-47ae-bbc8-c8da86e07b0f"
      },
      "execution_count": null,
      "outputs": [
        {
          "output_type": "execute_result",
          "data": {
            "text/plain": [
              "['a', 'b', 'c']"
            ]
          },
          "metadata": {},
          "execution_count": 108
        }
      ]
    },
    {
      "cell_type": "code",
      "source": [
        "lst_2=[1,'a',2,'b']\n",
        "lst_2"
      ],
      "metadata": {
        "colab": {
          "base_uri": "https://localhost:8080/"
        },
        "id": "_H2MoT_92skQ",
        "outputId": "08be83a0-e49c-4107-880e-ec3378175aea"
      },
      "execution_count": null,
      "outputs": [
        {
          "output_type": "execute_result",
          "data": {
            "text/plain": [
              "[1, 'a', 2, 'b']"
            ]
          },
          "metadata": {},
          "execution_count": 109
        }
      ]
    },
    {
      "cell_type": "code",
      "source": [
        "lst"
      ],
      "metadata": {
        "colab": {
          "base_uri": "https://localhost:8080/"
        },
        "id": "qh5JOxX720VI",
        "outputId": "447f28a8-b681-4cfa-ab9f-ef87f6c73eff"
      },
      "execution_count": null,
      "outputs": [
        {
          "output_type": "execute_result",
          "data": {
            "text/plain": [
              "[1, 2, 3]"
            ]
          },
          "metadata": {},
          "execution_count": 110
        }
      ]
    },
    {
      "cell_type": "code",
      "source": [
        "n = 5\n",
        "for i in lst:\n",
        "  c = n*i\n",
        "  print(c)"
      ],
      "metadata": {
        "colab": {
          "base_uri": "https://localhost:8080/"
        },
        "id": "ZDZ-a-V_3UjS",
        "outputId": "e0adf51a-db6e-467b-a34a-201f54d0d100"
      },
      "execution_count": null,
      "outputs": [
        {
          "output_type": "stream",
          "name": "stdout",
          "text": [
            "5\n",
            "10\n",
            "15\n"
          ]
        }
      ]
    },
    {
      "cell_type": "code",
      "source": [
        "n = 'test'\n",
        "for a in lst:\n",
        "  c = n*a\n",
        "  print(c)"
      ],
      "metadata": {
        "colab": {
          "base_uri": "https://localhost:8080/"
        },
        "id": "LJeR-yOo3a0n",
        "outputId": "56c96aa1-e95d-43bf-a839-bf8d2c6a77cf"
      },
      "execution_count": null,
      "outputs": [
        {
          "output_type": "stream",
          "name": "stdout",
          "text": [
            "test\n",
            "testtest\n",
            "testtesttest\n"
          ]
        }
      ]
    },
    {
      "cell_type": "code",
      "source": [
        "i = 1\n",
        "while i <5:\n",
        "  print(\"Value of i\")\n",
        "  i = i+1 \n",
        "else:\n",
        "  print(\"exit the loop\")"
      ],
      "metadata": {
        "colab": {
          "base_uri": "https://localhost:8080/"
        },
        "id": "E7OMD-fm3y9V",
        "outputId": "ae7c14d0-a274-49c6-cbdb-3680eae903be"
      },
      "execution_count": null,
      "outputs": [
        {
          "output_type": "stream",
          "name": "stdout",
          "text": [
            "Value of i\n",
            "Value of i\n",
            "Value of i\n",
            "Value of i\n",
            "exit the loop\n"
          ]
        }
      ]
    },
    {
      "cell_type": "code",
      "source": [
        "my_list=[2,4,6]\n",
        "my_list"
      ],
      "metadata": {
        "colab": {
          "base_uri": "https://localhost:8080/"
        },
        "id": "aZqEHgIa4_i1",
        "outputId": "5b277f71-c4f3-4f99-c9f5-83caaa93cf53"
      },
      "execution_count": null,
      "outputs": [
        {
          "output_type": "execute_result",
          "data": {
            "text/plain": [
              "[2, 4, 6]"
            ]
          },
          "metadata": {},
          "execution_count": 115
        }
      ]
    },
    {
      "cell_type": "code",
      "source": [
        "for subhankar in my_list:\n",
        "  print(subhankar**3)"
      ],
      "metadata": {
        "colab": {
          "base_uri": "https://localhost:8080/"
        },
        "id": "0G2AL7Tw5H15",
        "outputId": "30194666-f498-4708-91e7-659b772eb06c"
      },
      "execution_count": null,
      "outputs": [
        {
          "output_type": "stream",
          "name": "stdout",
          "text": [
            "8\n",
            "64\n",
            "216\n"
          ]
        }
      ]
    },
    {
      "cell_type": "markdown",
      "source": [
        "item/ item_1 is nothing but a concept of temporary vairable"
      ],
      "metadata": {
        "id": "xhLmY3xt5UNB"
      }
    },
    {
      "cell_type": "code",
      "source": [
        "my_list"
      ],
      "metadata": {
        "colab": {
          "base_uri": "https://localhost:8080/"
        },
        "id": "S7cvgvY05LMm",
        "outputId": "daa0f320-ceca-4573-9070-22b4b7c16ba2"
      },
      "execution_count": null,
      "outputs": [
        {
          "output_type": "execute_result",
          "data": {
            "text/plain": [
              "[2, 4, 6]"
            ]
          },
          "metadata": {},
          "execution_count": 121
        }
      ]
    },
    {
      "cell_type": "code",
      "source": [
        "for test in my_list:\n",
        "  print('sample')"
      ],
      "metadata": {
        "colab": {
          "base_uri": "https://localhost:8080/"
        },
        "id": "nvP7zhAS5pS2",
        "outputId": "f685cfd6-5500-46ce-f384-85a6579ddafb"
      },
      "execution_count": null,
      "outputs": [
        {
          "output_type": "stream",
          "name": "stdout",
          "text": [
            "sample\n",
            "sample\n",
            "sample\n"
          ]
        }
      ]
    },
    {
      "cell_type": "code",
      "source": [
        "[num**2 for num  in my_list]"
      ],
      "metadata": {
        "colab": {
          "base_uri": "https://localhost:8080/"
        },
        "id": "P1P0Uec95u7T",
        "outputId": "7e3a5602-73e2-4fac-df43-65e3b5252776"
      },
      "execution_count": null,
      "outputs": [
        {
          "output_type": "execute_result",
          "data": {
            "text/plain": [
              "[4, 16, 36]"
            ]
          },
          "metadata": {},
          "execution_count": 123
        }
      ]
    },
    {
      "cell_type": "code",
      "source": [
        ""
      ],
      "metadata": {
        "id": "KHG7OGem5-RS"
      },
      "execution_count": null,
      "outputs": []
    }
  ]
}