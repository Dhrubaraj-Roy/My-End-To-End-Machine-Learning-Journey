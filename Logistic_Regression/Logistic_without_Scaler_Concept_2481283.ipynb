{
  "nbformat": 4,
  "nbformat_minor": 0,
  "metadata": {
    "colab": {
      "name": "Logistic_without_Scaler_Concept.ipynb",
      "provenance": []
    },
    "kernelspec": {
      "name": "python3",
      "display_name": "Python 3"
    },
    "language_info": {
      "name": "python"
    }
  },
  "cells": [
    {
      "cell_type": "code",
      "execution_count": 1,
      "metadata": {
        "colab": {
          "resources": {
            "http://localhost:8080/nbextensions/google.colab/files.js": {
              "data": "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",
              "ok": true,
              "headers": [
                [
                  "content-type",
                  "application/javascript"
                ]
              ],
              "status": 200,
              "status_text": ""
            }
          },
          "base_uri": "https://localhost:8080/",
          "height": 73
        },
        "id": "akpbmHUhc13C",
        "outputId": "3217e087-f8ff-42e2-876a-5e691dedd1ae"
      },
      "outputs": [
        {
          "output_type": "display_data",
          "data": {
            "text/plain": [
              "<IPython.core.display.HTML object>"
            ],
            "text/html": [
              "\n",
              "     <input type=\"file\" id=\"files-bb14dbce-6bc5-4638-902f-99e3015d670f\" name=\"files[]\" multiple disabled\n",
              "        style=\"border:none\" />\n",
              "     <output id=\"result-bb14dbce-6bc5-4638-902f-99e3015d670f\">\n",
              "      Upload widget is only available when the cell has been executed in the\n",
              "      current browser session. Please rerun this cell to enable.\n",
              "      </output>\n",
              "      <script src=\"/nbextensions/google.colab/files.js\"></script> "
            ]
          },
          "metadata": {}
        },
        {
          "output_type": "stream",
          "name": "stdout",
          "text": [
            "Saving Facebook_Ads_2.csv to Facebook_Ads_2.csv\n"
          ]
        }
      ],
      "source": [
        "from google.colab import files \n",
        "uploaded = files.upload()"
      ]
    },
    {
      "cell_type": "code",
      "source": [
        "import pandas as pd\n",
        "import seaborn as sns"
      ],
      "metadata": {
        "id": "NwiIHIWWc7Uz"
      },
      "execution_count": 2,
      "outputs": []
    },
    {
      "cell_type": "code",
      "source": [
        "d1=pd.read_csv('Facebook_Ads_2.csv',encoding='ISO-8859-1')\n",
        "d1"
      ],
      "metadata": {
        "colab": {
          "base_uri": "https://localhost:8080/",
          "height": 424
        },
        "id": "t3mz_gU-fWZv",
        "outputId": "4db5e7a3-1b20-4732-fa61-f8795e908d0a"
      },
      "execution_count": 3,
      "outputs": [
        {
          "output_type": "execute_result",
          "data": {
            "text/plain": [
              "               Names                                             emails  \\\n",
              "0      Martina Avila  cubilia.Curae.Phasellus@quisaccumsanconvallis.edu   \n",
              "1      Harlan Barnes                                eu.dolor@diam.co.uk   \n",
              "2    Naomi Rodriquez  vulputate.mauris.sagittis@ametconsectetueradip...   \n",
              "3    Jade Cunningham                            malesuada@dignissim.com   \n",
              "4       Cedric Leach     felis.ullamcorper.viverra@egetmollislectus.net   \n",
              "..               ...                                                ...   \n",
              "494            Rigel            egestas.blandit.Nam@semvitaealiquam.com   \n",
              "495           Walter                                ligula@Cumsociis.ca   \n",
              "496            Vanna                 Cum.sociis.natoque@Sedmolestie.edu   \n",
              "497            Pearl                      penatibus.et@massanonante.com   \n",
              "498             Nell                  Quisque.varius@arcuVivamussit.net   \n",
              "\n",
              "                   Country  Time Spent on Site       Salary  Clicked  \n",
              "0                 Bulgaria           25.649648  55330.06006        0  \n",
              "1                   Belize           32.456107  79049.07674        1  \n",
              "2                  Algeria           20.945978  41098.60826        0  \n",
              "3             Cook Islands           54.039325  37143.35536        1  \n",
              "4                   Brazil           34.249729  37355.11276        0  \n",
              "..                     ...                 ...          ...      ...  \n",
              "494  Sao Tome and Principe           19.222746  44969.13495        0  \n",
              "495                  Nepal           22.665662  41686.20425        0  \n",
              "496               Zimbabwe           35.320239  23989.80864        0  \n",
              "497            Philippines           26.539170  31708.57054        0  \n",
              "498               Botswana           32.386148  74331.35442        1  \n",
              "\n",
              "[499 rows x 6 columns]"
            ],
            "text/html": [
              "\n",
              "  <div id=\"df-8259d17f-06e0-41cd-b2a9-55a4b12dc739\">\n",
              "    <div class=\"colab-df-container\">\n",
              "      <div>\n",
              "<style scoped>\n",
              "    .dataframe tbody tr th:only-of-type {\n",
              "        vertical-align: middle;\n",
              "    }\n",
              "\n",
              "    .dataframe tbody tr th {\n",
              "        vertical-align: top;\n",
              "    }\n",
              "\n",
              "    .dataframe thead th {\n",
              "        text-align: right;\n",
              "    }\n",
              "</style>\n",
              "<table border=\"1\" class=\"dataframe\">\n",
              "  <thead>\n",
              "    <tr style=\"text-align: right;\">\n",
              "      <th></th>\n",
              "      <th>Names</th>\n",
              "      <th>emails</th>\n",
              "      <th>Country</th>\n",
              "      <th>Time Spent on Site</th>\n",
              "      <th>Salary</th>\n",
              "      <th>Clicked</th>\n",
              "    </tr>\n",
              "  </thead>\n",
              "  <tbody>\n",
              "    <tr>\n",
              "      <th>0</th>\n",
              "      <td>Martina Avila</td>\n",
              "      <td>cubilia.Curae.Phasellus@quisaccumsanconvallis.edu</td>\n",
              "      <td>Bulgaria</td>\n",
              "      <td>25.649648</td>\n",
              "      <td>55330.06006</td>\n",
              "      <td>0</td>\n",
              "    </tr>\n",
              "    <tr>\n",
              "      <th>1</th>\n",
              "      <td>Harlan Barnes</td>\n",
              "      <td>eu.dolor@diam.co.uk</td>\n",
              "      <td>Belize</td>\n",
              "      <td>32.456107</td>\n",
              "      <td>79049.07674</td>\n",
              "      <td>1</td>\n",
              "    </tr>\n",
              "    <tr>\n",
              "      <th>2</th>\n",
              "      <td>Naomi Rodriquez</td>\n",
              "      <td>vulputate.mauris.sagittis@ametconsectetueradip...</td>\n",
              "      <td>Algeria</td>\n",
              "      <td>20.945978</td>\n",
              "      <td>41098.60826</td>\n",
              "      <td>0</td>\n",
              "    </tr>\n",
              "    <tr>\n",
              "      <th>3</th>\n",
              "      <td>Jade Cunningham</td>\n",
              "      <td>malesuada@dignissim.com</td>\n",
              "      <td>Cook Islands</td>\n",
              "      <td>54.039325</td>\n",
              "      <td>37143.35536</td>\n",
              "      <td>1</td>\n",
              "    </tr>\n",
              "    <tr>\n",
              "      <th>4</th>\n",
              "      <td>Cedric Leach</td>\n",
              "      <td>felis.ullamcorper.viverra@egetmollislectus.net</td>\n",
              "      <td>Brazil</td>\n",
              "      <td>34.249729</td>\n",
              "      <td>37355.11276</td>\n",
              "      <td>0</td>\n",
              "    </tr>\n",
              "    <tr>\n",
              "      <th>...</th>\n",
              "      <td>...</td>\n",
              "      <td>...</td>\n",
              "      <td>...</td>\n",
              "      <td>...</td>\n",
              "      <td>...</td>\n",
              "      <td>...</td>\n",
              "    </tr>\n",
              "    <tr>\n",
              "      <th>494</th>\n",
              "      <td>Rigel</td>\n",
              "      <td>egestas.blandit.Nam@semvitaealiquam.com</td>\n",
              "      <td>Sao Tome and Principe</td>\n",
              "      <td>19.222746</td>\n",
              "      <td>44969.13495</td>\n",
              "      <td>0</td>\n",
              "    </tr>\n",
              "    <tr>\n",
              "      <th>495</th>\n",
              "      <td>Walter</td>\n",
              "      <td>ligula@Cumsociis.ca</td>\n",
              "      <td>Nepal</td>\n",
              "      <td>22.665662</td>\n",
              "      <td>41686.20425</td>\n",
              "      <td>0</td>\n",
              "    </tr>\n",
              "    <tr>\n",
              "      <th>496</th>\n",
              "      <td>Vanna</td>\n",
              "      <td>Cum.sociis.natoque@Sedmolestie.edu</td>\n",
              "      <td>Zimbabwe</td>\n",
              "      <td>35.320239</td>\n",
              "      <td>23989.80864</td>\n",
              "      <td>0</td>\n",
              "    </tr>\n",
              "    <tr>\n",
              "      <th>497</th>\n",
              "      <td>Pearl</td>\n",
              "      <td>penatibus.et@massanonante.com</td>\n",
              "      <td>Philippines</td>\n",
              "      <td>26.539170</td>\n",
              "      <td>31708.57054</td>\n",
              "      <td>0</td>\n",
              "    </tr>\n",
              "    <tr>\n",
              "      <th>498</th>\n",
              "      <td>Nell</td>\n",
              "      <td>Quisque.varius@arcuVivamussit.net</td>\n",
              "      <td>Botswana</td>\n",
              "      <td>32.386148</td>\n",
              "      <td>74331.35442</td>\n",
              "      <td>1</td>\n",
              "    </tr>\n",
              "  </tbody>\n",
              "</table>\n",
              "<p>499 rows × 6 columns</p>\n",
              "</div>\n",
              "      <button class=\"colab-df-convert\" onclick=\"convertToInteractive('df-8259d17f-06e0-41cd-b2a9-55a4b12dc739')\"\n",
              "              title=\"Convert this dataframe to an interactive table.\"\n",
              "              style=\"display:none;\">\n",
              "        \n",
              "  <svg xmlns=\"http://www.w3.org/2000/svg\" height=\"24px\"viewBox=\"0 0 24 24\"\n",
              "       width=\"24px\">\n",
              "    <path d=\"M0 0h24v24H0V0z\" fill=\"none\"/>\n",
              "    <path d=\"M18.56 5.44l.94 2.06.94-2.06 2.06-.94-2.06-.94-.94-2.06-.94 2.06-2.06.94zm-11 1L8.5 8.5l.94-2.06 2.06-.94-2.06-.94L8.5 2.5l-.94 2.06-2.06.94zm10 10l.94 2.06.94-2.06 2.06-.94-2.06-.94-.94-2.06-.94 2.06-2.06.94z\"/><path d=\"M17.41 7.96l-1.37-1.37c-.4-.4-.92-.59-1.43-.59-.52 0-1.04.2-1.43.59L10.3 9.45l-7.72 7.72c-.78.78-.78 2.05 0 2.83L4 21.41c.39.39.9.59 1.41.59.51 0 1.02-.2 1.41-.59l7.78-7.78 2.81-2.81c.8-.78.8-2.07 0-2.86zM5.41 20L4 18.59l7.72-7.72 1.47 1.35L5.41 20z\"/>\n",
              "  </svg>\n",
              "      </button>\n",
              "      \n",
              "  <style>\n",
              "    .colab-df-container {\n",
              "      display:flex;\n",
              "      flex-wrap:wrap;\n",
              "      gap: 12px;\n",
              "    }\n",
              "\n",
              "    .colab-df-convert {\n",
              "      background-color: #E8F0FE;\n",
              "      border: none;\n",
              "      border-radius: 50%;\n",
              "      cursor: pointer;\n",
              "      display: none;\n",
              "      fill: #1967D2;\n",
              "      height: 32px;\n",
              "      padding: 0 0 0 0;\n",
              "      width: 32px;\n",
              "    }\n",
              "\n",
              "    .colab-df-convert:hover {\n",
              "      background-color: #E2EBFA;\n",
              "      box-shadow: 0px 1px 2px rgba(60, 64, 67, 0.3), 0px 1px 3px 1px rgba(60, 64, 67, 0.15);\n",
              "      fill: #174EA6;\n",
              "    }\n",
              "\n",
              "    [theme=dark] .colab-df-convert {\n",
              "      background-color: #3B4455;\n",
              "      fill: #D2E3FC;\n",
              "    }\n",
              "\n",
              "    [theme=dark] .colab-df-convert:hover {\n",
              "      background-color: #434B5C;\n",
              "      box-shadow: 0px 1px 3px 1px rgba(0, 0, 0, 0.15);\n",
              "      filter: drop-shadow(0px 1px 2px rgba(0, 0, 0, 0.3));\n",
              "      fill: #FFFFFF;\n",
              "    }\n",
              "  </style>\n",
              "\n",
              "      <script>\n",
              "        const buttonEl =\n",
              "          document.querySelector('#df-8259d17f-06e0-41cd-b2a9-55a4b12dc739 button.colab-df-convert');\n",
              "        buttonEl.style.display =\n",
              "          google.colab.kernel.accessAllowed ? 'block' : 'none';\n",
              "\n",
              "        async function convertToInteractive(key) {\n",
              "          const element = document.querySelector('#df-8259d17f-06e0-41cd-b2a9-55a4b12dc739');\n",
              "          const dataTable =\n",
              "            await google.colab.kernel.invokeFunction('convertToInteractive',\n",
              "                                                     [key], {});\n",
              "          if (!dataTable) return;\n",
              "\n",
              "          const docLinkHtml = 'Like what you see? Visit the ' +\n",
              "            '<a target=\"_blank\" href=https://colab.research.google.com/notebooks/data_table.ipynb>data table notebook</a>'\n",
              "            + ' to learn more about interactive tables.';\n",
              "          element.innerHTML = '';\n",
              "          dataTable['output_type'] = 'display_data';\n",
              "          await google.colab.output.renderOutput(dataTable, element);\n",
              "          const docLink = document.createElement('div');\n",
              "          docLink.innerHTML = docLinkHtml;\n",
              "          element.appendChild(docLink);\n",
              "        }\n",
              "      </script>\n",
              "    </div>\n",
              "  </div>\n",
              "  "
            ]
          },
          "metadata": {},
          "execution_count": 3
        }
      ]
    },
    {
      "cell_type": "code",
      "source": [
        "d1.info()"
      ],
      "metadata": {
        "colab": {
          "base_uri": "https://localhost:8080/"
        },
        "id": "XeJ6Kvitff2Z",
        "outputId": "7bd75055-549f-4ff3-93c0-5f412e56107e"
      },
      "execution_count": 4,
      "outputs": [
        {
          "output_type": "stream",
          "name": "stdout",
          "text": [
            "<class 'pandas.core.frame.DataFrame'>\n",
            "RangeIndex: 499 entries, 0 to 498\n",
            "Data columns (total 6 columns):\n",
            " #   Column              Non-Null Count  Dtype  \n",
            "---  ------              --------------  -----  \n",
            " 0   Names               499 non-null    object \n",
            " 1   emails              499 non-null    object \n",
            " 2   Country             499 non-null    object \n",
            " 3   Time Spent on Site  499 non-null    float64\n",
            " 4   Salary              499 non-null    float64\n",
            " 5   Clicked             499 non-null    int64  \n",
            "dtypes: float64(2), int64(1), object(3)\n",
            "memory usage: 23.5+ KB\n"
          ]
        }
      ]
    },
    {
      "cell_type": "code",
      "source": [
        "sns.jointplot(x='Salary',y='Time Spent on Site',data=d1)"
      ],
      "metadata": {
        "colab": {
          "base_uri": "https://localhost:8080/",
          "height": 459
        },
        "id": "bRvQHoZafkW-",
        "outputId": "bec46287-983b-48d5-bd7e-013fd4e780ae"
      },
      "execution_count": 5,
      "outputs": [
        {
          "output_type": "execute_result",
          "data": {
            "text/plain": [
              "<seaborn.axisgrid.JointGrid at 0x7f728a979c50>"
            ]
          },
          "metadata": {},
          "execution_count": 5
        },
        {
          "output_type": "display_data",
          "data": {
            "text/plain": [
              "<Figure size 432x432 with 3 Axes>"
            ],
            "image/png": "[encoded data removed]"
          },
          "metadata": {
            "needs_background": "light"
          }
        }
      ]
    },
    {
      "cell_type": "markdown",
      "source": [
        "In this case Name,Email and Country not needed to perform any kind of analysis. \n",
        "So It will be good practice if we drop the columns and create on updated dataframe"
      ],
      "metadata": {
        "id": "FEHoVGt6gfko"
      }
    },
    {
      "cell_type": "code",
      "source": [
        "d1.drop(['Names','emails','Country'],axis=1,inplace=True)"
      ],
      "metadata": {
        "id": "NXfmYz83gGU4"
      },
      "execution_count": 7,
      "outputs": []
    },
    {
      "cell_type": "markdown",
      "source": [
        "Iplace = True is Used Beacuse , From My Csv file I am going to delete three columns so it will be able to change in internal alignment of data structure , this inplace = True will adjust the internal structure of the data - all of the operation will be performed internally."
      ],
      "metadata": {
        "id": "AkuxDfhqg9jF"
      }
    },
    {
      "cell_type": "code",
      "source": [
        "d1"
      ],
      "metadata": {
        "colab": {
          "base_uri": "https://localhost:8080/",
          "height": 424
        },
        "id": "231UxRaegzPe",
        "outputId": "8ec15bcd-38fd-4c71-fcdd-e334565a49cc"
      },
      "execution_count": 8,
      "outputs": [
        {
          "output_type": "execute_result",
          "data": {
            "text/plain": [
              "     Time Spent on Site       Salary  Clicked\n",
              "0             25.649648  55330.06006        0\n",
              "1             32.456107  79049.07674        1\n",
              "2             20.945978  41098.60826        0\n",
              "3             54.039325  37143.35536        1\n",
              "4             34.249729  37355.11276        0\n",
              "..                  ...          ...      ...\n",
              "494           19.222746  44969.13495        0\n",
              "495           22.665662  41686.20425        0\n",
              "496           35.320239  23989.80864        0\n",
              "497           26.539170  31708.57054        0\n",
              "498           32.386148  74331.35442        1\n",
              "\n",
              "[499 rows x 3 columns]"
            ],
            "text/html": [
              "\n",
              "  <div id=\"df-ecb80b95-6d80-45b2-9a8e-895814215fc8\">\n",
              "    <div class=\"colab-df-container\">\n",
              "      <div>\n",
              "<style scoped>\n",
              "    .dataframe tbody tr th:only-of-type {\n",
              "        vertical-align: middle;\n",
              "    }\n",
              "\n",
              "    .dataframe tbody tr th {\n",
              "        vertical-align: top;\n",
              "    }\n",
              "\n",
              "    .dataframe thead th {\n",
              "        text-align: right;\n",
              "    }\n",
              "</style>\n",
              "<table border=\"1\" class=\"dataframe\">\n",
              "  <thead>\n",
              "    <tr style=\"text-align: right;\">\n",
              "      <th></th>\n",
              "      <th>Time Spent on Site</th>\n",
              "      <th>Salary</th>\n",
              "      <th>Clicked</th>\n",
              "    </tr>\n",
              "  </thead>\n",
              "  <tbody>\n",
              "    <tr>\n",
              "      <th>0</th>\n",
              "      <td>25.649648</td>\n",
              "      <td>55330.06006</td>\n",
              "      <td>0</td>\n",
              "    </tr>\n",
              "    <tr>\n",
              "      <th>1</th>\n",
              "      <td>32.456107</td>\n",
              "      <td>79049.07674</td>\n",
              "      <td>1</td>\n",
              "    </tr>\n",
              "    <tr>\n",
              "      <th>2</th>\n",
              "      <td>20.945978</td>\n",
              "      <td>41098.60826</td>\n",
              "      <td>0</td>\n",
              "    </tr>\n",
              "    <tr>\n",
              "      <th>3</th>\n",
              "      <td>54.039325</td>\n",
              "      <td>37143.35536</td>\n",
              "      <td>1</td>\n",
              "    </tr>\n",
              "    <tr>\n",
              "      <th>4</th>\n",
              "      <td>34.249729</td>\n",
              "      <td>37355.11276</td>\n",
              "      <td>0</td>\n",
              "    </tr>\n",
              "    <tr>\n",
              "      <th>...</th>\n",
              "      <td>...</td>\n",
              "      <td>...</td>\n",
              "      <td>...</td>\n",
              "    </tr>\n",
              "    <tr>\n",
              "      <th>494</th>\n",
              "      <td>19.222746</td>\n",
              "      <td>44969.13495</td>\n",
              "      <td>0</td>\n",
              "    </tr>\n",
              "    <tr>\n",
              "      <th>495</th>\n",
              "      <td>22.665662</td>\n",
              "      <td>41686.20425</td>\n",
              "      <td>0</td>\n",
              "    </tr>\n",
              "    <tr>\n",
              "      <th>496</th>\n",
              "      <td>35.320239</td>\n",
              "      <td>23989.80864</td>\n",
              "      <td>0</td>\n",
              "    </tr>\n",
              "    <tr>\n",
              "      <th>497</th>\n",
              "      <td>26.539170</td>\n",
              "      <td>31708.57054</td>\n",
              "      <td>0</td>\n",
              "    </tr>\n",
              "    <tr>\n",
              "      <th>498</th>\n",
              "      <td>32.386148</td>\n",
              "      <td>74331.35442</td>\n",
              "      <td>1</td>\n",
              "    </tr>\n",
              "  </tbody>\n",
              "</table>\n",
              "<p>499 rows × 3 columns</p>\n",
              "</div>\n",
              "      <button class=\"colab-df-convert\" onclick=\"convertToInteractive('df-ecb80b95-6d80-45b2-9a8e-895814215fc8')\"\n",
              "              title=\"Convert this dataframe to an interactive table.\"\n",
              "              style=\"display:none;\">\n",
              "        \n",
              "  <svg xmlns=\"http://www.w3.org/2000/svg\" height=\"24px\"viewBox=\"0 0 24 24\"\n",
              "       width=\"24px\">\n",
              "    <path d=\"M0 0h24v24H0V0z\" fill=\"none\"/>\n",
              "    <path d=\"M18.56 5.44l.94 2.06.94-2.06 2.06-.94-2.06-.94-.94-2.06-.94 2.06-2.06.94zm-11 1L8.5 8.5l.94-2.06 2.06-.94-2.06-.94L8.5 2.5l-.94 2.06-2.06.94zm10 10l.94 2.06.94-2.06 2.06-.94-2.06-.94-.94-2.06-.94 2.06-2.06.94z\"/><path d=\"M17.41 7.96l-1.37-1.37c-.4-.4-.92-.59-1.43-.59-.52 0-1.04.2-1.43.59L10.3 9.45l-7.72 7.72c-.78.78-.78 2.05 0 2.83L4 21.41c.39.39.9.59 1.41.59.51 0 1.02-.2 1.41-.59l7.78-7.78 2.81-2.81c.8-.78.8-2.07 0-2.86zM5.41 20L4 18.59l7.72-7.72 1.47 1.35L5.41 20z\"/>\n",
              "  </svg>\n",
              "      </button>\n",
              "      \n",
              "  <style>\n",
              "    .colab-df-container {\n",
              "      display:flex;\n",
              "      flex-wrap:wrap;\n",
              "      gap: 12px;\n",
              "    }\n",
              "\n",
              "    .colab-df-convert {\n",
              "      background-color: #E8F0FE;\n",
              "      border: none;\n",
              "      border-radius: 50%;\n",
              "      cursor: pointer;\n",
              "      display: none;\n",
              "      fill: #1967D2;\n",
              "      height: 32px;\n",
              "      padding: 0 0 0 0;\n",
              "      width: 32px;\n",
              "    }\n",
              "\n",
              "    .colab-df-convert:hover {\n",
              "      background-color: #E2EBFA;\n",
              "      box-shadow: 0px 1px 2px rgba(60, 64, 67, 0.3), 0px 1px 3px 1px rgba(60, 64, 67, 0.15);\n",
              "      fill: #174EA6;\n",
              "    }\n",
              "\n",
              "    [theme=dark] .colab-df-convert {\n",
              "      background-color: #3B4455;\n",
              "      fill: #D2E3FC;\n",
              "    }\n",
              "\n",
              "    [theme=dark] .colab-df-convert:hover {\n",
              "      background-color: #434B5C;\n",
              "      box-shadow: 0px 1px 3px 1px rgba(0, 0, 0, 0.15);\n",
              "      filter: drop-shadow(0px 1px 2px rgba(0, 0, 0, 0.3));\n",
              "      fill: #FFFFFF;\n",
              "    }\n",
              "  </style>\n",
              "\n",
              "      <script>\n",
              "        const buttonEl =\n",
              "          document.querySelector('#df-ecb80b95-6d80-45b2-9a8e-895814215fc8 button.colab-df-convert');\n",
              "        buttonEl.style.display =\n",
              "          google.colab.kernel.accessAllowed ? 'block' : 'none';\n",
              "\n",
              "        async function convertToInteractive(key) {\n",
              "          const element = document.querySelector('#df-ecb80b95-6d80-45b2-9a8e-895814215fc8');\n",
              "          const dataTable =\n",
              "            await google.colab.kernel.invokeFunction('convertToInteractive',\n",
              "                                                     [key], {});\n",
              "          if (!dataTable) return;\n",
              "\n",
              "          const docLinkHtml = 'Like what you see? Visit the ' +\n",
              "            '<a target=\"_blank\" href=https://colab.research.google.com/notebooks/data_table.ipynb>data table notebook</a>'\n",
              "            + ' to learn more about interactive tables.';\n",
              "          element.innerHTML = '';\n",
              "          dataTable['output_type'] = 'display_data';\n",
              "          await google.colab.output.renderOutput(dataTable, element);\n",
              "          const docLink = document.createElement('div');\n",
              "          docLink.innerHTML = docLinkHtml;\n",
              "          element.appendChild(docLink);\n",
              "        }\n",
              "      </script>\n",
              "    </div>\n",
              "  </div>\n",
              "  "
            ]
          },
          "metadata": {},
          "execution_count": 8
        }
      ]
    },
    {
      "cell_type": "code",
      "source": [
        "d1.info()"
      ],
      "metadata": {
        "colab": {
          "base_uri": "https://localhost:8080/"
        },
        "id": "adI1N6vbg6Pk",
        "outputId": "853a1ca3-cc5c-4247-a9f7-339111dd98f1"
      },
      "execution_count": 9,
      "outputs": [
        {
          "output_type": "stream",
          "name": "stdout",
          "text": [
            "<class 'pandas.core.frame.DataFrame'>\n",
            "RangeIndex: 499 entries, 0 to 498\n",
            "Data columns (total 3 columns):\n",
            " #   Column              Non-Null Count  Dtype  \n",
            "---  ------              --------------  -----  \n",
            " 0   Time Spent on Site  499 non-null    float64\n",
            " 1   Salary              499 non-null    float64\n",
            " 2   Clicked             499 non-null    int64  \n",
            "dtypes: float64(2), int64(1)\n",
            "memory usage: 11.8 KB\n"
          ]
        }
      ]
    },
    {
      "cell_type": "markdown",
      "source": [
        "In This Case Time Spent on Site and Salary totally independent but Clicked is depends on multiple paramter or dependencies."
      ],
      "metadata": {
        "id": "NUUnQv9xh3gw"
      }
    },
    {
      "cell_type": "code",
      "source": [
        "X=d1.drop('Clicked',axis=1).values"
      ],
      "metadata": {
        "id": "SrqpmeithXXC"
      },
      "execution_count": 10,
      "outputs": []
    },
    {
      "cell_type": "markdown",
      "source": [
        "# X Containing Time Spent on Site and Salary - I told that n number of independent variables possible."
      ],
      "metadata": {
        "id": "aOsH4s46ifhk"
      }
    },
    {
      "cell_type": "code",
      "source": [
        "X"
      ],
      "metadata": {
        "colab": {
          "base_uri": "https://localhost:8080/"
        },
        "id": "De9nxY_viZ9d",
        "outputId": "e566763d-56eb-499f-871f-181bd005838d"
      },
      "execution_count": 11,
      "outputs": [
        {
          "output_type": "execute_result",
          "data": {
            "text/plain": [
              "array([[2.56496480e+01, 5.53300601e+04],\n",
              "       [3.24561067e+01, 7.90490767e+04],\n",
              "       [2.09459779e+01, 4.10986083e+04],\n",
              "       [5.40393248e+01, 3.71433554e+04],\n",
              "       [3.42497288e+01, 3.73551128e+04],\n",
              "       [5.20099460e+01, 8.06426522e+04],\n",
              "       [4.28813696e+01, 6.19083982e+04],\n",
              "       [2.56769196e+01, 2.98514115e+04],\n",
              "       [4.06982326e+01, 3.42811188e+04],\n",
              "       [2.96873619e+01, 4.10988788e+04],\n",
              "       [3.32725720e+01, 5.41270171e+04],\n",
              "       [3.45308979e+01, 3.02219371e+04],\n",
              "       [2.53136952e+01, 4.37639976e+04],\n",
              "       [4.65407082e+01, 4.86634947e+04],\n",
              "       [3.77165819e+01, 6.46959770e+04],\n",
              "       [2.50567822e+01, 1.77599339e+04],\n",
              "       [4.10959602e+01, 4.94633813e+04],\n",
              "       [2.47615633e+01, 3.84844232e+04],\n",
              "       [4.88701755e+01, 3.47744441e+04],\n",
              "       [2.78338319e+01, 5.16444933e+04],\n",
              "       [1.71035757e+01, 6.16617652e+04],\n",
              "       [2.55977957e+01, 5.36307638e+04],\n",
              "       [4.22491897e+01, 3.22150995e+04],\n",
              "       [3.71359218e+01, 5.17336572e+04],\n",
              "       [3.24431111e+01, 5.16776990e+04],\n",
              "       [1.99366738e+01, 3.42637885e+04],\n",
              "       [3.98205393e+01, 7.05033132e+04],\n",
              "       [3.07288550e+01, 6.70222730e+04],\n",
              "       [2.40435827e+01, 3.64747097e+04],\n",
              "       [3.90560356e+01, 2.91783610e+04],\n",
              "       [3.12469528e+01, 7.60643837e+04],\n",
              "       [3.60573969e+01, 6.52029101e+04],\n",
              "       [1.99109736e+01, 3.28945211e+04],\n",
              "       [2.24559772e+01, 4.77700703e+04],\n",
              "       [3.67657158e+01, 5.34644264e+04],\n",
              "       [3.59575676e+01, 2.36833077e+04],\n",
              "       [4.19899262e+01, 5.47269945e+04],\n",
              "       [3.45416750e+01, 7.81564644e+04],\n",
              "       [2.48281717e+01, 4.31269171e+04],\n",
              "       [3.85916733e+01, 5.45242749e+04],\n",
              "       [3.05154930e+01, 1.20660167e+04],\n",
              "       [2.89448700e+01, 2.98994691e+04],\n",
              "       [4.09839628e+01, 4.55914541e+04],\n",
              "       [2.76038406e+01, 3.22423240e+04],\n",
              "       [1.90893032e+01, 3.92798893e+04],\n",
              "       [1.88815858e+01, 5.25189951e+04],\n",
              "       [2.07144638e+01, 3.39930522e+04],\n",
              "       [2.74038095e+01, 4.80260228e+04],\n",
              "       [3.90490584e+01, 7.35165789e+04],\n",
              "       [3.62967505e+01, 2.93548248e+04],\n",
              "       [3.88067588e+01, 6.12989152e+04],\n",
              "       [2.62443824e+01, 6.13471666e+04],\n",
              "       [2.07768912e+01, 2.56426419e+04],\n",
              "       [2.60097999e+01, 3.69483513e+04],\n",
              "       [6.00000000e+01, 7.64991193e+04],\n",
              "       [2.74320282e+01, 4.08144763e+04],\n",
              "       [2.63876221e+01, 3.70802788e+04],\n",
              "       [4.70705902e+01, 8.07098390e+04],\n",
              "       [4.18076397e+01, 7.95235748e+04],\n",
              "       [3.68088102e+01, 8.12824122e+04],\n",
              "       [2.98432039e+01, 1.00000000e+05],\n",
              "       [4.19628357e+01, 6.34792556e+04],\n",
              "       [4.29084570e+01, 5.58967506e+04],\n",
              "       [3.15183734e+01, 3.52772568e+04],\n",
              "       [4.44492861e+01, 7.80397881e+04],\n",
              "       [3.86520504e+01, 5.77934256e+04],\n",
              "       [2.98597461e+01, 4.94642315e+04],\n",
              "       [3.18710838e+01, 5.68627176e+04],\n",
              "       [3.51243059e+01, 7.14804800e+04],\n",
              "       [4.36229793e+01, 4.39387766e+04],\n",
              "       [2.78047431e+01, 3.86511302e+04],\n",
              "       [4.14575777e+01, 7.59232499e+04],\n",
              "       [2.64102406e+01, 5.53887145e+04],\n",
              "       [2.47085321e+01, 5.81645968e+04],\n",
              "       [3.82419630e+01, 5.28409131e+04],\n",
              "       [5.30739074e+01, 6.53448407e+04],\n",
              "       [3.81654874e+01, 2.87283204e+04],\n",
              "       [2.64081753e+01, 2.83492112e+04],\n",
              "       [1.98456916e+01, 1.92957707e+04],\n",
              "       [4.64672263e+01, 6.89877084e+04],\n",
              "       [2.78707542e+01, 2.35527653e+04],\n",
              "       [3.76250690e+01, 5.10373533e+04],\n",
              "       [1.56195277e+01, 3.15306152e+04],\n",
              "       [4.27702221e+01, 7.06512880e+04],\n",
              "       [2.97700309e+01, 7.25353009e+04],\n",
              "       [3.05759060e+01, 6.57428549e+04],\n",
              "       [3.17184722e+01, 7.30469351e+04],\n",
              "       [4.13595971e+01, 7.31578464e+04],\n",
              "       [2.72932799e+01, 5.25870476e+04],\n",
              "       [2.57989330e+01, 3.05411407e+04],\n",
              "       [3.96323569e+01, 7.72452348e+04],\n",
              "       [2.01683006e+01, 3.44984851e+04],\n",
              "       [4.44626110e+01, 6.30841640e+04],\n",
              "       [1.18632392e+01, 4.56220797e+04],\n",
              "       [4.84830316e+01, 6.64396506e+04],\n",
              "       [1.89982488e+01, 5.08822378e+04],\n",
              "       [2.46473139e+01, 4.42890324e+04],\n",
              "       [2.88636415e+01, 5.55952863e+04],\n",
              "       [1.28660315e+01, 2.71482792e+04],\n",
              "       [3.39072519e+01, 7.76114340e+04],\n",
              "       [3.61805198e+01, 4.51518587e+04],\n",
              "       [2.33583459e+01, 6.04214985e+04],\n",
              "       [3.01087326e+01, 5.49428498e+04],\n",
              "       [3.22728796e+01, 5.20206482e+04],\n",
              "       [3.84835203e+01, 4.43716033e+04],\n",
              "       [3.26617715e+01, 7.50111592e+04],\n",
              "       [2.59102767e+01, 2.00000000e+01],\n",
              "       [4.58671019e+01, 9.62048047e+04],\n",
              "       [4.15015106e+01, 6.56909720e+04],\n",
              "       [3.35211027e+01, 5.68019297e+04],\n",
              "       [4.16906638e+01, 9.01061368e+04],\n",
              "       [3.40603181e+01, 5.59829773e+04],\n",
              "       [3.99038194e+01, 6.62936664e+04],\n",
              "       [3.65168217e+01, 8.80452187e+04],\n",
              "       [3.36216471e+01, 5.23472683e+04],\n",
              "       [3.66936068e+01, 8.48196717e+04],\n",
              "       [4.70029177e+01, 6.72504280e+04],\n",
              "       [3.07828560e+01, 2.63116347e+04],\n",
              "       [4.04881779e+01, 6.35148227e+04],\n",
              "       [3.33001853e+01, 6.66053872e+04],\n",
              "       [2.43522694e+01, 3.99418770e+04],\n",
              "       [2.92274561e+01, 6.56770925e+04],\n",
              "       [2.34040158e+01, 6.50570982e+04],\n",
              "       [3.36535297e+01, 5.58835779e+04],\n",
              "       [2.64043699e+01, 4.20142779e+04],\n",
              "       [3.94479733e+01, 8.19588499e+04],\n",
              "       [2.53150925e+01, 8.24522050e+04],\n",
              "       [3.19394817e+01, 1.85545163e+04],\n",
              "       [3.12675209e+01, 4.19415935e+04],\n",
              "       [2.32967542e+01, 5.25647603e+04],\n",
              "       [3.82224063e+01, 4.12017892e+04],\n",
              "       [3.78973797e+01, 6.02712819e+04],\n",
              "       [3.58378083e+01, 5.37247624e+04],\n",
              "       [1.76520265e+01, 4.44822280e+04],\n",
              "       [1.92478156e+01, 4.55278159e+04],\n",
              "       [2.34295576e+01, 2.62158445e+04],\n",
              "       [3.45075444e+01, 9.28476870e+04],\n",
              "       [2.44172577e+01, 4.96602012e+04],\n",
              "       [4.75338721e+01, 9.30244902e+04],\n",
              "       [4.02186098e+01, 6.74915973e+04],\n",
              "       [2.48800244e+01, 4.59245731e+04],\n",
              "       [3.47208925e+01, 8.07450096e+04],\n",
              "       [2.79499985e+01, 5.64031686e+04],\n",
              "       [3.93494331e+01, 7.34995525e+04],\n",
              "       [3.62094825e+01, 5.90173618e+04],\n",
              "       [2.94685012e+01, 6.91074801e+04],\n",
              "       [1.05088058e+01, 3.93819303e+04],\n",
              "       [3.55537203e+01, 7.11092738e+04],\n",
              "       [2.71781871e+01, 5.49945466e+04],\n",
              "       [2.34963782e+01, 4.33450950e+04],\n",
              "       [2.51426733e+01, 5.51603155e+04],\n",
              "       [4.04586230e+01, 5.39662825e+04],\n",
              "       [3.88574063e+01, 5.53588182e+04],\n",
              "       [2.95762982e+01, 5.28261559e+04],\n",
              "       [3.05571377e+01, 9.28650557e+04],\n",
              "       [3.07305865e+01, 4.70127276e+04],\n",
              "       [2.89227932e+01, 4.01108134e+04],\n",
              "       [3.53594502e+01, 6.92518256e+04],\n",
              "       [3.71130641e+01, 7.62215378e+04],\n",
              "       [3.26071089e+01, 5.18356482e+04],\n",
              "       [4.88615514e+01, 7.31418533e+04],\n",
              "       [3.29495012e+01, 5.82441939e+04],\n",
              "       [4.05171459e+01, 6.83686549e+04],\n",
              "       [5.02727593e+01, 7.53052538e+04],\n",
              "       [2.55784141e+01, 5.20516990e+03],\n",
              "       [2.85502371e+01, 3.66215980e+04],\n",
              "       [3.58429434e+01, 3.40393164e+04],\n",
              "       [3.09678423e+01, 7.35653177e+04],\n",
              "       [4.21360295e+01, 6.02607094e+04],\n",
              "       [3.27193725e+01, 3.83681890e+04],\n",
              "       [4.44281531e+01, 8.68954755e+04],\n",
              "       [3.06380380e+01, 6.43160472e+04],\n",
              "       [4.21512391e+01, 2.43257387e+04],\n",
              "       [5.64346841e+01, 6.09760709e+04],\n",
              "       [4.17687666e+01, 4.75629084e+04],\n",
              "       [2.02896816e+01, 4.50124987e+04],\n",
              "       [3.55764783e+01, 8.30649588e+04],\n",
              "       [2.52497547e+01, 3.09207978e+04],\n",
              "       [2.90580662e+01, 5.49696410e+04],\n",
              "       [2.98467125e+01, 5.66656620e+04],\n",
              "       [1.86808045e+01, 9.25967472e+04],\n",
              "       [4.65255251e+01, 8.65549597e+04],\n",
              "       [2.98234139e+01, 4.18080756e+04],\n",
              "       [2.36539263e+01, 2.98081136e+04],\n",
              "       [3.35206399e+01, 5.08886432e+04],\n",
              "       [3.36468646e+01, 3.22937462e+04],\n",
              "       [2.93024745e+01, 6.71909142e+04],\n",
              "       [4.69952054e+01, 8.92275799e+04],\n",
              "       [3.14744305e+01, 2.43835039e+04],\n",
              "       [3.83222896e+01, 5.33603852e+04],\n",
              "       [5.13421647e+01, 4.56862872e+04],\n",
              "       [1.08648566e+01, 1.58098138e+04],\n",
              "       [2.45302413e+01, 5.20680244e+04],\n",
              "       [2.94593914e+01, 3.70891522e+04],\n",
              "       [3.65963509e+01, 7.22433880e+04],\n",
              "       [3.34374530e+01, 4.17738614e+04],\n",
              "       [3.54968913e+01, 6.58229465e+04],\n",
              "       [3.58261948e+01, 3.87047313e+04],\n",
              "       [4.05230999e+01, 7.73750093e+04],\n",
              "       [2.24005459e+01, 4.84320286e+04],\n",
              "       [3.60493548e+01, 6.12334584e+04],\n",
              "       [2.05818871e+01, 2.68769710e+04],\n",
              "       [3.15791966e+01, 3.34654615e+04],\n",
              "       [2.76748132e+01, 4.78163245e+04],\n",
              "       [3.49456435e+01, 3.98152116e+04],\n",
              "       [5.09854022e+01, 6.36950472e+04],\n",
              "       [2.87094124e+01, 6.20576208e+04],\n",
              "       [2.10550822e+01, 5.80889013e+04],\n",
              "       [3.02658664e+01, 8.41002738e+04],\n",
              "       [3.23276139e+01, 3.89146345e+04],\n",
              "       [4.66338684e+01, 6.38534268e+04],\n",
              "       [2.24365194e+01, 5.28514987e+04],\n",
              "       [1.74760982e+01, 4.14639525e+04],\n",
              "       [3.49056635e+01, 3.99907947e+04],\n",
              "       [3.21996490e+01, 3.12847347e+04],\n",
              "       [3.05699441e+01, 6.79629143e+04],\n",
              "       [4.21536527e+01, 4.84468270e+04],\n",
              "       [3.37346415e+01, 6.43891442e+04],\n",
              "       [3.48429402e+01, 3.71456330e+04],\n",
              "       [2.34024184e+01, 4.97089130e+04],\n",
              "       [4.58760735e+01, 5.12880058e+04],\n",
              "       [3.41882996e+01, 1.56386460e+04],\n",
              "       [4.16986703e+01, 4.02140767e+04],\n",
              "       [2.83759392e+01, 9.01441027e+04],\n",
              "       [3.89279450e+01, 6.76260341e+04],\n",
              "       [2.91761896e+01, 3.76848619e+04],\n",
              "       [3.55246959e+01, 5.76413931e+04],\n",
              "       [4.41216767e+01, 5.55535748e+04],\n",
              "       [2.12182337e+01, 3.51163004e+04],\n",
              "       [3.34892043e+01, 8.18233396e+04],\n",
              "       [2.54053312e+01, 1.85417346e+04],\n",
              "       [2.60391521e+01, 7.49110438e+04],\n",
              "       [3.72736113e+01, 5.18749784e+04],\n",
              "       [2.67855469e+01, 5.16913266e+04],\n",
              "       [4.42354581e+01, 9.04593418e+04],\n",
              "       [3.38168131e+01, 4.60637130e+04],\n",
              "       [4.41859134e+01, 6.52458746e+04],\n",
              "       [3.64545684e+01, 4.91028313e+04],\n",
              "       [1.97285622e+01, 4.28761682e+04],\n",
              "       [3.14233710e+01, 6.30276565e+04],\n",
              "       [5.02276799e+01, 3.17073190e+04],\n",
              "       [2.00896906e+01, 3.77504505e+04],\n",
              "       [3.19961024e+01, 4.24196598e+04],\n",
              "       [1.90532074e+01, 4.75509553e+04],\n",
              "       [2.29596116e+01, 3.50480614e+04],\n",
              "       [4.05024428e+01, 5.26236495e+04],\n",
              "       [1.99191528e+01, 3.02012546e+04],\n",
              "       [5.31530788e+01, 4.32935072e+04],\n",
              "       [1.62785413e+01, 3.81544187e+04],\n",
              "       [3.35898056e+01, 5.88336809e+04],\n",
              "       [3.53246912e+01, 8.22836079e+04],\n",
              "       [2.76596200e+01, 1.98624079e+04],\n",
              "       [3.09847257e+01, 1.31762478e+04],\n",
              "       [4.16282937e+01, 6.31236795e+04],\n",
              "       [2.75796440e+01, 5.80939678e+04],\n",
              "       [4.29195153e+01, 5.82811104e+04],\n",
              "       [2.94935216e+01, 3.76118378e+04],\n",
              "       [4.17010252e+01, 8.05431056e+04],\n",
              "       [3.35278138e+01, 6.16304272e+04],\n",
              "       [2.80828173e+01, 5.38798649e+04],\n",
              "       [4.46367583e+01, 3.12828629e+04],\n",
              "       [3.92505596e+01, 4.25048807e+04],\n",
              "       [5.30494259e+01, 7.30433418e+04],\n",
              "       [4.02620984e+01, 6.02817066e+04],\n",
              "       [2.44338404e+01, 2.09347511e+04],\n",
              "       [1.56496290e+01, 4.87558908e+04],\n",
              "       [2.93080549e+01, 3.82412229e+04],\n",
              "       [4.46762203e+01, 5.72179996e+04],\n",
              "       [3.61465810e+01, 7.01632283e+04],\n",
              "       [4.41374215e+01, 5.91564481e+04],\n",
              "       [3.10268869e+01, 3.53412715e+04],\n",
              "       [4.79432454e+01, 6.04167033e+04],\n",
              "       [4.42504089e+01, 7.96791384e+04],\n",
              "       [2.94639341e+01, 5.08829401e+04],\n",
              "       [3.06883631e+01, 8.11296120e+04],\n",
              "       [4.11023440e+01, 8.24049824e+04],\n",
              "       [1.82859931e+01, 3.37365495e+04],\n",
              "       [4.24895681e+01, 6.80543470e+04],\n",
              "       [1.81812869e+01, 7.66354856e+04],\n",
              "       [5.08758779e+01, 5.35622263e+04],\n",
              "       [2.04931223e+01, 4.57289518e+04],\n",
              "       [2.88808244e+01, 3.75927751e+04],\n",
              "       [4.20668915e+01, 8.32775478e+04],\n",
              "       [2.64398469e+01, 4.20160028e+04],\n",
              "       [2.82513675e+01, 5.72757294e+04],\n",
              "       [5.00446542e+01, 6.94613272e+04],\n",
              "       [2.26276345e+01, 2.50311485e+04],\n",
              "       [4.62940030e+01, 5.15310813e+04],\n",
              "       [3.30530972e+01, 7.43293176e+04],\n",
              "       [4.87944133e+01, 5.56330384e+04],\n",
              "       [3.03885345e+01, 3.34878539e+04],\n",
              "       [2.77068380e+01, 4.86595672e+04],\n",
              "       [4.03144981e+01, 3.16240643e+04],\n",
              "       [2.30545686e+01, 3.79809265e+04],\n",
              "       [4.54947046e+01, 6.76608800e+04],\n",
              "       [3.84224037e+01, 6.08942207e+04],\n",
              "       [3.68194876e+01, 7.50994215e+04],\n",
              "       [3.13600177e+01, 5.46555805e+04],\n",
              "       [1.19312672e+01, 5.40936393e+04],\n",
              "       [3.65010819e+01, 4.83171276e+04],\n",
              "       [1.92928807e+01, 5.09914299e+04],\n",
              "       [3.22365399e+01, 3.07723306e+04],\n",
              "       [5.36642156e+01, 5.32103591e+04],\n",
              "       [1.55571184e+01, 5.50529108e+04],\n",
              "       [3.38919177e+01, 5.81877770e+04],\n",
              "       [4.40125057e+01, 6.28544185e+04],\n",
              "       [1.32192063e+01, 4.16868220e+04],\n",
              "       [2.24622381e+01, 7.05078497e+03],\n",
              "       [4.38804479e+01, 7.73716486e+04],\n",
              "       [2.99884778e+01, 7.70597541e+04],\n",
              "       [2.70225659e+01, 4.97952566e+04],\n",
              "       [3.08517410e+01, 3.05623709e+04],\n",
              "       [3.09688672e+01, 2.97248206e+04],\n",
              "       [3.86204546e+01, 4.83434430e+04],\n",
              "       [4.20103219e+01, 6.20454180e+04],\n",
              "       [2.46337620e+01, 2.77924584e+04],\n",
              "       [1.39808525e+01, 4.56227404e+04],\n",
              "       [4.64031668e+01, 5.60888412e+04],\n",
              "       [2.87550671e+01, 6.91307914e+04],\n",
              "       [1.89299435e+01, 6.49805059e+04],\n",
              "       [3.53577092e+01, 2.51504865e+04],\n",
              "       [5.40029692e+01, 4.43733982e+04],\n",
              "       [4.31727088e+01, 4.10330523e+04],\n",
              "       [3.39976171e+01, 3.82732827e+04],\n",
              "       [3.91739534e+01, 7.79001814e+04],\n",
              "       [3.66081961e+01, 6.50440619e+04],\n",
              "       [4.29033431e+01, 7.84016720e+04],\n",
              "       [3.75668643e+01, 4.03835557e+04],\n",
              "       [7.52147958e+00, 2.28392538e+04],\n",
              "       [3.24551760e+01, 3.15311236e+04],\n",
              "       [4.37509751e+01, 5.07779969e+04],\n",
              "       [4.45507249e+01, 5.85982680e+04],\n",
              "       [2.91892923e+01, 5.26774063e+04],\n",
              "       [3.49045688e+01, 5.58649643e+04],\n",
              "       [3.72133623e+01, 5.58372154e+04],\n",
              "       [3.46248290e+01, 6.16963336e+04],\n",
              "       [3.20248700e+01, 5.05279872e+04],\n",
              "       [3.72784531e+01, 5.01587456e+04],\n",
              "       [4.83499305e+01, 5.50066401e+04],\n",
              "       [4.02859551e+01, 2.02595157e+04],\n",
              "       [3.10091944e+01, 5.11629918e+04],\n",
              "       [3.98514304e+01, 9.49504212e+04],\n",
              "       [3.31960665e+01, 8.90519931e+04],\n",
              "       [4.56635019e+01, 7.78794670e+04],\n",
              "       [4.06265620e+01, 5.94773823e+04],\n",
              "       [4.67292085e+01, 6.99166687e+04],\n",
              "       [2.90471256e+01, 3.91057208e+04],\n",
              "       [3.76422783e+01, 4.67364633e+04],\n",
              "       [3.35228988e+01, 5.07025233e+04],\n",
              "       [2.46587450e+01, 3.65368270e+04],\n",
              "       [2.83718984e+01, 2.59332721e+04],\n",
              "       [3.03911016e+01, 5.95194309e+04],\n",
              "       [3.75322198e+01, 5.30406126e+04],\n",
              "       [2.41169889e+01, 4.76988250e+04],\n",
              "       [2.97587774e+01, 3.04451602e+04],\n",
              "       [3.37387837e+01, 7.00334087e+04],\n",
              "       [3.96055870e+01, 6.18209676e+04],\n",
              "       [3.77133500e+01, 5.56427984e+04],\n",
              "       [3.14376244e+01, 7.55202631e+04],\n",
              "       [4.07604306e+01, 6.09654312e+04],\n",
              "       [4.59108749e+01, 7.33738833e+04],\n",
              "       [1.14513664e+01, 3.50436278e+04],\n",
              "       [3.68739121e+01, 8.79079885e+04],\n",
              "       [4.01293959e+01, 7.55940569e+04],\n",
              "       [2.03325090e+01, 3.80574069e+04],\n",
              "       [2.13043705e+01, 6.71681827e+04],\n",
              "       [1.70969669e+01, 5.92288574e+04],\n",
              "       [4.46614374e+01, 7.54262811e+04],\n",
              "       [2.53644089e+01, 5.63138498e+04],\n",
              "       [2.31811889e+01, 4.23325529e+04],\n",
              "       [2.69134953e+01, 6.14184478e+04],\n",
              "       [3.42496271e+01, 4.09729123e+04],\n",
              "       [2.75763785e+01, 6.58516299e+04],\n",
              "       [3.38398041e+01, 1.90319734e+04],\n",
              "       [3.29782551e+01, 8.07118539e+04],\n",
              "       [3.15848147e+01, 2.94242919e+04],\n",
              "       [3.31447033e+01, 8.26938135e+04],\n",
              "       [1.87660715e+01, 3.94139610e+04],\n",
              "       [3.87964343e+01, 7.30021659e+04],\n",
              "       [3.58344010e+01, 5.53337266e+04],\n",
              "       [4.26448395e+01, 6.92626286e+04],\n",
              "       [3.40982121e+01, 7.46686623e+04],\n",
              "       [2.63401697e+01, 3.72252184e+04],\n",
              "       [4.31409979e+01, 6.38319352e+04],\n",
              "       [2.94884279e+01, 2.59826755e+04],\n",
              "       [2.09270422e+01, 4.84517856e+04],\n",
              "       [2.66190018e+01, 7.65055587e+04],\n",
              "       [5.15137341e+01, 7.27355602e+04],\n",
              "       [3.93612268e+01, 8.09091834e+04],\n",
              "       [2.76704795e+01, 3.99315375e+03],\n",
              "       [3.01935619e+01, 4.38217606e+04],\n",
              "       [4.16056042e+01, 8.08056850e+04],\n",
              "       [1.62973421e+01, 3.29205222e+04],\n",
              "       [2.62983302e+01, 6.53985233e+04],\n",
              "       [3.64981020e+01, 9.43154570e+04],\n",
              "       [4.33218399e+01, 5.99467138e+04],\n",
              "       [3.49622578e+01, 6.00742374e+04],\n",
              "       [2.40929521e+01, 1.89076728e+04],\n",
              "       [3.50974580e+01, 6.96371438e+04],\n",
              "       [3.94615261e+01, 3.38436573e+04],\n",
              "       [4.01464219e+01, 7.44447505e+04],\n",
              "       [2.81490614e+01, 6.28807355e+04],\n",
              "       [3.01459702e+01, 2.02076022e+04],\n",
              "       [2.77299030e+01, 4.70935415e+04],\n",
              "       [2.39730129e+01, 2.57108564e+04],\n",
              "       [3.09168263e+01, 1.91234664e+04],\n",
              "       [2.55517556e+01, 2.10766039e+04],\n",
              "       [3.82460146e+01, 9.51001224e+04],\n",
              "       [3.73036174e+01, 6.20529800e+04],\n",
              "       [2.57092621e+01, 5.55648761e+04],\n",
              "       [3.86187187e+01, 5.83652099e+04],\n",
              "       [2.09930210e+01, 3.61713548e+04],\n",
              "       [2.52074011e+01, 7.78881047e+04],\n",
              "       [2.97218206e+01, 7.72404617e+04],\n",
              "       [3.59327372e+01, 3.16440008e+04],\n",
              "       [4.95562172e+01, 6.61547259e+04],\n",
              "       [3.57666657e+01, 8.56624067e+04],\n",
              "       [2.79083453e+01, 3.96153915e+04],\n",
              "       [4.48882539e+01, 5.46828834e+04],\n",
              "       [3.60570632e+01, 5.01058751e+04],\n",
              "       [3.44856335e+01, 2.26044144e+04],\n",
              "       [3.75289036e+01, 6.28503249e+04],\n",
              "       [2.30900303e+01, 4.06486939e+04],\n",
              "       [3.01727926e+01, 1.87769570e+04],\n",
              "       [4.31866888e+01, 9.04941064e+04],\n",
              "       [4.64530762e+01, 7.04866635e+04],\n",
              "       [3.53132725e+01, 5.48460347e+04],\n",
              "       [3.02230794e+01, 3.34663045e+04],\n",
              "       [4.45466301e+01, 6.50837736e+04],\n",
              "       [2.52541766e+01, 4.47565307e+04],\n",
              "       [3.11819570e+01, 6.07724248e+04],\n",
              "       [4.22533442e+01, 6.65640357e+04],\n",
              "       [3.02905373e+01, 6.51319974e+04],\n",
              "       [2.97517687e+01, 5.35573493e+04],\n",
              "       [3.56528243e+01, 7.64907446e+04],\n",
              "       [1.31940548e+01, 2.42310876e+04],\n",
              "       [2.53912830e+01, 4.76459332e+04],\n",
              "       [3.86826695e+01, 4.32365048e+04],\n",
              "       [3.86141982e+01, 6.71351687e+04],\n",
              "       [3.47497131e+01, 4.90529039e+04],\n",
              "       [2.94013181e+01, 5.07783390e+04],\n",
              "       [2.94545777e+01, 1.40077980e+04],\n",
              "       [3.32317457e+01, 3.37791062e+04],\n",
              "       [7.76437276e+00, 3.42211151e+04],\n",
              "       [2.13738297e+01, 3.88616000e+04],\n",
              "       [2.47096188e+01, 6.96708045e+04],\n",
              "       [3.29502601e+01, 4.31351392e+04],\n",
              "       [2.89218007e+01, 2.75120896e+04],\n",
              "       [3.18131530e+01, 3.56996891e+04],\n",
              "       [2.73395507e+01, 4.15569623e+04],\n",
              "       [3.69992238e+01, 4.49688217e+04],\n",
              "       [3.38006386e+01, 4.55029770e+04],\n",
              "       [3.53065213e+01, 1.23189649e+04],\n",
              "       [2.91566541e+01, 3.93942836e+04],\n",
              "       [3.75858120e+01, 2.37741186e+04],\n",
              "       [3.70851050e+01, 9.15689722e+04],\n",
              "       [1.50483464e+01, 9.76462204e+04],\n",
              "       [2.53668084e+01, 3.71920171e+04],\n",
              "       [3.63245104e+01, 7.65481526e+04],\n",
              "       [3.69195856e+01, 6.16685598e+04],\n",
              "       [2.74554865e+01, 4.01066055e+04],\n",
              "       [3.77495494e+01, 7.36874770e+04],\n",
              "       [2.29045330e+01, 3.44986590e+04],\n",
              "       [3.71732810e+01, 6.31006724e+04],\n",
              "       [4.99687325e+01, 7.18439705e+04],\n",
              "       [4.45002065e+01, 5.21402841e+04],\n",
              "       [3.80050727e+01, 6.30045419e+04],\n",
              "       [2.65417428e+01, 5.09679878e+04],\n",
              "       [4.16975275e+01, 5.45209872e+04],\n",
              "       [3.04340351e+01, 4.04468480e+04],\n",
              "       [2.82743386e+01, 8.23956369e+04],\n",
              "       [4.07362791e+01, 3.53232010e+04],\n",
              "       [2.35566757e+01, 4.30725675e+04],\n",
              "       [3.78430726e+01, 5.78413598e+04],\n",
              "       [4.48934669e+01, 7.18404046e+04],\n",
              "       [2.32772817e+01, 4.07650438e+04],\n",
              "       [3.70148953e+01, 7.30572445e+04],\n",
              "       [2.50876170e+01, 6.16533831e+04],\n",
              "       [2.07061007e+01, 7.14772354e+03],\n",
              "       [4.21902794e+01, 4.80205680e+04],\n",
              "       [4.28852972e+01, 5.81622850e+04],\n",
              "       [2.24394882e+01, 3.59178482e+04],\n",
              "       [3.76740583e+01, 6.20344860e+04],\n",
              "       [2.04208922e+01, 4.01141562e+04],\n",
              "       [3.69023777e+01, 3.25830242e+04],\n",
              "       [3.33490368e+01, 5.20209165e+04],\n",
              "       [4.15443044e+01, 5.57926985e+04],\n",
              "       [4.32815864e+01, 5.41236465e+04],\n",
              "       [2.43310544e+01, 5.98735170e+04],\n",
              "       [2.38653708e+01, 2.34398678e+04],\n",
              "       [3.48283033e+01, 5.01513262e+04],\n",
              "       [3.71732155e+01, 6.37504156e+04],\n",
              "       [5.00000000e+00, 4.73295658e+04],\n",
              "       [2.46152275e+01, 3.47217486e+04],\n",
              "       [1.92227465e+01, 4.49691349e+04],\n",
              "       [2.26656616e+01, 4.16862043e+04],\n",
              "       [3.53202387e+01, 2.39898086e+04],\n",
              "       [2.65391702e+01, 3.17085705e+04],\n",
              "       [3.23861478e+01, 7.43313544e+04]])"
            ]
          },
          "metadata": {},
          "execution_count": 11
        }
      ]
    },
    {
      "cell_type": "code",
      "source": [
        "y=d1['Clicked'].values"
      ],
      "metadata": {
        "id": "rFlgjYJeicNm"
      },
      "execution_count": 12,
      "outputs": []
    },
    {
      "cell_type": "code",
      "source": [
        "y"
      ],
      "metadata": {
        "colab": {
          "base_uri": "https://localhost:8080/"
        },
        "id": "KE8-85-EiuSf",
        "outputId": "d63b61ef-c883-4a73-af0b-5ba24226b9f8"
      },
      "execution_count": 13,
      "outputs": [
        {
          "output_type": "execute_result",
          "data": {
            "text/plain": [
              "array([0, 1, 0, 1, 0, 1, 1, 0, 1, 0, 0, 0, 0, 1, 1, 0, 1, 0, 1, 0, 0, 0,\n",
              "       1, 1, 0, 0, 1, 1, 1, 0, 1, 1, 0, 0, 0, 0, 1, 1, 0, 1, 0, 0, 1, 0,\n",
              "       0, 0, 1, 0, 1, 1, 1, 0, 0, 0, 1, 0, 0, 1, 1, 1, 1, 1, 1, 0, 1, 1,\n",
              "       0, 1, 1, 0, 0, 1, 0, 0, 0, 1, 0, 0, 0, 1, 0, 1, 0, 1, 1, 1, 1, 1,\n",
              "       1, 0, 1, 0, 1, 0, 1, 0, 1, 0, 0, 1, 1, 0, 1, 1, 1, 1, 0, 1, 1, 1,\n",
              "       1, 1, 1, 1, 1, 1, 1, 0, 1, 0, 0, 1, 0, 0, 0, 1, 1, 0, 0, 1, 1, 1,\n",
              "       1, 0, 0, 0, 1, 0, 1, 1, 0, 1, 0, 1, 1, 1, 0, 1, 0, 0, 0, 1, 1, 0,\n",
              "       1, 0, 0, 1, 1, 1, 1, 1, 1, 1, 0, 0, 0, 0, 1, 0, 1, 1, 1, 1, 1, 0,\n",
              "       1, 0, 0, 0, 1, 1, 0, 0, 0, 0, 0, 1, 0, 1, 1, 0, 0, 0, 1, 0, 1, 0,\n",
              "       1, 0, 1, 0, 0, 0, 0, 1, 0, 0, 1, 0, 1, 0, 0, 0, 0, 1, 1, 1, 0, 0,\n",
              "       1, 0, 1, 1, 1, 0, 1, 1, 0, 1, 0, 1, 1, 1, 1, 0, 1, 0, 0, 1, 0, 0,\n",
              "       0, 0, 0, 1, 0, 1, 0, 1, 1, 0, 0, 1, 1, 1, 0, 1, 1, 0, 1, 1, 1, 1,\n",
              "       0, 0, 0, 1, 1, 1, 0, 1, 1, 0, 1, 1, 0, 1, 0, 1, 0, 0, 1, 0, 1, 1,\n",
              "       0, 1, 1, 1, 0, 0, 0, 0, 1, 0, 1, 0, 0, 0, 0, 0, 1, 0, 0, 1, 0, 0,\n",
              "       1, 1, 0, 0, 0, 1, 1, 0, 0, 1, 1, 0, 0, 1, 1, 0, 1, 1, 1, 0, 0, 0,\n",
              "       1, 1, 0, 0, 1, 1, 0, 0, 1, 0, 0, 1, 1, 1, 1, 1, 1, 1, 0, 0, 0, 1,\n",
              "       1, 0, 0, 1, 1, 1, 0, 1, 1, 0, 1, 1, 0, 0, 0, 1, 0, 0, 0, 0, 0, 0,\n",
              "       1, 0, 1, 0, 1, 1, 1, 1, 0, 1, 0, 0, 1, 1, 1, 0, 0, 1, 0, 1, 1, 1,\n",
              "       1, 0, 1, 0, 1, 0, 0, 0, 0, 0, 0, 1, 1, 0, 1, 0, 1, 1, 0, 1, 1, 0,\n",
              "       1, 1, 0, 1, 0, 0, 1, 1, 1, 0, 1, 0, 0, 1, 0, 0, 1, 0, 0, 0, 1, 1,\n",
              "       0, 0, 0, 0, 1, 1, 0, 0, 0, 0, 0, 0, 0, 0, 0, 1, 0, 0, 1, 1, 0, 1,\n",
              "       0, 1, 1, 1, 1, 0, 1, 0, 1, 1, 0, 0, 1, 0, 1, 0, 0, 1, 1, 0, 1, 0,\n",
              "       0, 1, 1, 1, 0, 0, 1, 1, 0, 0, 0, 0, 0, 0, 1])"
            ]
          },
          "metadata": {},
          "execution_count": 13
        }
      ]
    },
    {
      "cell_type": "markdown",
      "source": [
        "Now Perform our Traditional train , test split method which we studied last day"
      ],
      "metadata": {
        "id": "qZ47iPjZi52i"
      }
    },
    {
      "cell_type": "code",
      "source": [
        "from sklearn.model_selection import train_test_split"
      ],
      "metadata": {
        "id": "dCrLx72oivo8"
      },
      "execution_count": 14,
      "outputs": []
    },
    {
      "cell_type": "code",
      "source": [
        "X_train,X_test,y_train,y_test=train_test_split(X,y,test_size=0.28)"
      ],
      "metadata": {
        "id": "yhg9CVZijDy-"
      },
      "execution_count": 15,
      "outputs": []
    },
    {
      "cell_type": "markdown",
      "source": [
        "with the help of sklearn libary we have preapred X_test with 28% of random data and x_train containing reamining 72% - same applicable for y also"
      ],
      "metadata": {
        "id": "LgS6kww9jaXH"
      }
    },
    {
      "cell_type": "markdown",
      "source": [
        "from EDA we came to know that data trend is not going to statisfy any of our traditional math eqn. so we cannot execute linear model for this case. So its time to execute logistic regression - almost similar style of linear regression steps"
      ],
      "metadata": {
        "id": "MWlJGOQCjpDf"
      }
    },
    {
      "cell_type": "code",
      "source": [
        "from sklearn.linear_model import LogisticRegression"
      ],
      "metadata": {
        "id": "sLsTOE7pjSmQ"
      },
      "execution_count": 18,
      "outputs": []
    },
    {
      "cell_type": "code",
      "source": [
        "logisr=LogisticRegression()"
      ],
      "metadata": {
        "id": "cgtQR9xDkJO9"
      },
      "execution_count": 19,
      "outputs": []
    },
    {
      "cell_type": "markdown",
      "source": [
        "We have prepared new X_test with 28% of the data so main dataset alignment totally destroyed. we have to fit it (same as linear )"
      ],
      "metadata": {
        "id": "_H9sSy8mkXRB"
      }
    },
    {
      "cell_type": "code",
      "source": [
        "logisr.fit(X_train,y_train)"
      ],
      "metadata": {
        "colab": {
          "base_uri": "https://localhost:8080/"
        },
        "id": "4IVZ5HTqkPAZ",
        "outputId": "349f03ae-a010-4b9b-9421-153f27b4f58f"
      },
      "execution_count": 20,
      "outputs": [
        {
          "output_type": "execute_result",
          "data": {
            "text/plain": [
              "LogisticRegression()"
            ]
          },
          "metadata": {},
          "execution_count": 20
        }
      ]
    },
    {
      "cell_type": "code",
      "source": [
        "y_predict=logisr.predict(X_test)\n",
        "y_predict"
      ],
      "metadata": {
        "colab": {
          "base_uri": "https://localhost:8080/"
        },
        "id": "mMwIwOwkkjlQ",
        "outputId": "ba6b6403-516c-412e-e258-a63a46171e91"
      },
      "execution_count": 21,
      "outputs": [
        {
          "output_type": "execute_result",
          "data": {
            "text/plain": [
              "array([1, 1, 1, 1, 1, 1, 0, 1, 1, 1, 1, 0, 1, 0, 1, 1, 1, 1, 1, 1, 1, 1,\n",
              "       1, 1, 1, 1, 1, 1, 1, 1, 0, 1, 1, 1, 1, 1, 1, 1, 1, 1, 1, 1, 1, 1,\n",
              "       1, 1, 1, 0, 1, 0, 1, 0, 1, 1, 1, 0, 1, 1, 1, 1, 1, 1, 1, 1, 1, 1,\n",
              "       1, 1, 1, 1, 1, 1, 0, 1, 1, 1, 1, 0, 1, 1, 1, 0, 1, 1, 1, 1, 1, 0,\n",
              "       0, 0, 1, 1, 1, 1, 1, 1, 1, 1, 1, 1, 1, 1, 1, 1, 0, 1, 1, 1, 1, 1,\n",
              "       1, 1, 0, 1, 1, 1, 1, 0, 1, 1, 1, 1, 1, 1, 1, 1, 1, 1, 1, 0, 1, 1,\n",
              "       1, 1, 0, 1, 1, 0, 1, 0])"
            ]
          },
          "metadata": {},
          "execution_count": 21
        }
      ]
    },
    {
      "cell_type": "markdown",
      "source": [
        "We have selected time spent on site and salary as independent ones based on this prediction for y almost accurate , which we received an overview from line no.21"
      ],
      "metadata": {
        "id": "xeaqHq3jlKPk"
      }
    },
    {
      "cell_type": "markdown",
      "source": [
        "In Linear Case data was following proper trend (mostly y = mx + c or similar) so in that case i dont need to think about accuracy - but in this example data was scrattered way so our assumption is good or correct we have to attach one accuracy score along with our testing report then only customer will accept it."
      ],
      "metadata": {
        "id": "zs8ip2BEldyX"
      }
    },
    {
      "cell_type": "code",
      "source": [
        "from sklearn.metrics import classification_report"
      ],
      "metadata": {
        "id": "J9eWfc_Gk9YP"
      },
      "execution_count": 22,
      "outputs": []
    },
    {
      "cell_type": "code",
      "source": [
        "print(classification_report(y_test,y_predict))"
      ],
      "metadata": {
        "colab": {
          "base_uri": "https://localhost:8080/"
        },
        "id": "91q-OMWYmIkF",
        "outputId": "8843d828-8826-43a3-9e64-dbac8a77e899"
      },
      "execution_count": 23,
      "outputs": [
        {
          "output_type": "stream",
          "name": "stdout",
          "text": [
            "              precision    recall  f1-score   support\n",
            "\n",
            "           0       0.76      0.21      0.33        75\n",
            "           1       0.50      0.92      0.65        65\n",
            "\n",
            "    accuracy                           0.54       140\n",
            "   macro avg       0.63      0.57      0.49       140\n",
            "weighted avg       0.64      0.54      0.48       140\n",
            "\n"
          ]
        }
      ]
    },
    {
      "cell_type": "markdown",
      "source": [
        "From this analysis everything is correct as per line no.21 but problem in other parts."
      ],
      "metadata": {
        "id": "UKjVlynRnB2b"
      }
    },
    {
      "cell_type": "code",
      "source": [
        "d1.head(5)"
      ],
      "metadata": {
        "colab": {
          "base_uri": "https://localhost:8080/",
          "height": 206
        },
        "id": "ShRx_rrjmNQH",
        "outputId": "ff4bf6d2-50fd-4071-e155-babf4a4b548c"
      },
      "execution_count": 24,
      "outputs": [
        {
          "output_type": "execute_result",
          "data": {
            "text/plain": [
              "   Time Spent on Site       Salary  Clicked\n",
              "0           25.649648  55330.06006        0\n",
              "1           32.456107  79049.07674        1\n",
              "2           20.945978  41098.60826        0\n",
              "3           54.039325  37143.35536        1\n",
              "4           34.249729  37355.11276        0"
            ],
            "text/html": [
              "\n",
              "  <div id=\"df-b6804416-8b48-429d-a4eb-294b955cc1d0\">\n",
              "    <div class=\"colab-df-container\">\n",
              "      <div>\n",
              "<style scoped>\n",
              "    .dataframe tbody tr th:only-of-type {\n",
              "        vertical-align: middle;\n",
              "    }\n",
              "\n",
              "    .dataframe tbody tr th {\n",
              "        vertical-align: top;\n",
              "    }\n",
              "\n",
              "    .dataframe thead th {\n",
              "        text-align: right;\n",
              "    }\n",
              "</style>\n",
              "<table border=\"1\" class=\"dataframe\">\n",
              "  <thead>\n",
              "    <tr style=\"text-align: right;\">\n",
              "      <th></th>\n",
              "      <th>Time Spent on Site</th>\n",
              "      <th>Salary</th>\n",
              "      <th>Clicked</th>\n",
              "    </tr>\n",
              "  </thead>\n",
              "  <tbody>\n",
              "    <tr>\n",
              "      <th>0</th>\n",
              "      <td>25.649648</td>\n",
              "      <td>55330.06006</td>\n",
              "      <td>0</td>\n",
              "    </tr>\n",
              "    <tr>\n",
              "      <th>1</th>\n",
              "      <td>32.456107</td>\n",
              "      <td>79049.07674</td>\n",
              "      <td>1</td>\n",
              "    </tr>\n",
              "    <tr>\n",
              "      <th>2</th>\n",
              "      <td>20.945978</td>\n",
              "      <td>41098.60826</td>\n",
              "      <td>0</td>\n",
              "    </tr>\n",
              "    <tr>\n",
              "      <th>3</th>\n",
              "      <td>54.039325</td>\n",
              "      <td>37143.35536</td>\n",
              "      <td>1</td>\n",
              "    </tr>\n",
              "    <tr>\n",
              "      <th>4</th>\n",
              "      <td>34.249729</td>\n",
              "      <td>37355.11276</td>\n",
              "      <td>0</td>\n",
              "    </tr>\n",
              "  </tbody>\n",
              "</table>\n",
              "</div>\n",
              "      <button class=\"colab-df-convert\" onclick=\"convertToInteractive('df-b6804416-8b48-429d-a4eb-294b955cc1d0')\"\n",
              "              title=\"Convert this dataframe to an interactive table.\"\n",
              "              style=\"display:none;\">\n",
              "        \n",
              "  <svg xmlns=\"http://www.w3.org/2000/svg\" height=\"24px\"viewBox=\"0 0 24 24\"\n",
              "       width=\"24px\">\n",
              "    <path d=\"M0 0h24v24H0V0z\" fill=\"none\"/>\n",
              "    <path d=\"M18.56 5.44l.94 2.06.94-2.06 2.06-.94-2.06-.94-.94-2.06-.94 2.06-2.06.94zm-11 1L8.5 8.5l.94-2.06 2.06-.94-2.06-.94L8.5 2.5l-.94 2.06-2.06.94zm10 10l.94 2.06.94-2.06 2.06-.94-2.06-.94-.94-2.06-.94 2.06-2.06.94z\"/><path d=\"M17.41 7.96l-1.37-1.37c-.4-.4-.92-.59-1.43-.59-.52 0-1.04.2-1.43.59L10.3 9.45l-7.72 7.72c-.78.78-.78 2.05 0 2.83L4 21.41c.39.39.9.59 1.41.59.51 0 1.02-.2 1.41-.59l7.78-7.78 2.81-2.81c.8-.78.8-2.07 0-2.86zM5.41 20L4 18.59l7.72-7.72 1.47 1.35L5.41 20z\"/>\n",
              "  </svg>\n",
              "      </button>\n",
              "      \n",
              "  <style>\n",
              "    .colab-df-container {\n",
              "      display:flex;\n",
              "      flex-wrap:wrap;\n",
              "      gap: 12px;\n",
              "    }\n",
              "\n",
              "    .colab-df-convert {\n",
              "      background-color: #E8F0FE;\n",
              "      border: none;\n",
              "      border-radius: 50%;\n",
              "      cursor: pointer;\n",
              "      display: none;\n",
              "      fill: #1967D2;\n",
              "      height: 32px;\n",
              "      padding: 0 0 0 0;\n",
              "      width: 32px;\n",
              "    }\n",
              "\n",
              "    .colab-df-convert:hover {\n",
              "      background-color: #E2EBFA;\n",
              "      box-shadow: 0px 1px 2px rgba(60, 64, 67, 0.3), 0px 1px 3px 1px rgba(60, 64, 67, 0.15);\n",
              "      fill: #174EA6;\n",
              "    }\n",
              "\n",
              "    [theme=dark] .colab-df-convert {\n",
              "      background-color: #3B4455;\n",
              "      fill: #D2E3FC;\n",
              "    }\n",
              "\n",
              "    [theme=dark] .colab-df-convert:hover {\n",
              "      background-color: #434B5C;\n",
              "      box-shadow: 0px 1px 3px 1px rgba(0, 0, 0, 0.15);\n",
              "      filter: drop-shadow(0px 1px 2px rgba(0, 0, 0, 0.3));\n",
              "      fill: #FFFFFF;\n",
              "    }\n",
              "  </style>\n",
              "\n",
              "      <script>\n",
              "        const buttonEl =\n",
              "          document.querySelector('#df-b6804416-8b48-429d-a4eb-294b955cc1d0 button.colab-df-convert');\n",
              "        buttonEl.style.display =\n",
              "          google.colab.kernel.accessAllowed ? 'block' : 'none';\n",
              "\n",
              "        async function convertToInteractive(key) {\n",
              "          const element = document.querySelector('#df-b6804416-8b48-429d-a4eb-294b955cc1d0');\n",
              "          const dataTable =\n",
              "            await google.colab.kernel.invokeFunction('convertToInteractive',\n",
              "                                                     [key], {});\n",
              "          if (!dataTable) return;\n",
              "\n",
              "          const docLinkHtml = 'Like what you see? Visit the ' +\n",
              "            '<a target=\"_blank\" href=https://colab.research.google.com/notebooks/data_table.ipynb>data table notebook</a>'\n",
              "            + ' to learn more about interactive tables.';\n",
              "          element.innerHTML = '';\n",
              "          dataTable['output_type'] = 'display_data';\n",
              "          await google.colab.output.renderOutput(dataTable, element);\n",
              "          const docLink = document.createElement('div');\n",
              "          docLink.innerHTML = docLinkHtml;\n",
              "          element.appendChild(docLink);\n",
              "        }\n",
              "      </script>\n",
              "    </div>\n",
              "  </div>\n",
              "  "
            ]
          },
          "metadata": {},
          "execution_count": 24
        }
      ]
    },
    {
      "cell_type": "markdown",
      "source": [
        "Due to Too Much Float Value without any kind of proper sequence developer may receive not good accuracy score , we have to adjust it - this process is called \"standard Scaler\" "
      ],
      "metadata": {
        "id": "4lftkqtznuoZ"
      }
    },
    {
      "cell_type": "code",
      "source": [
        "from google.colab import files \n",
        "uploaded = files.upload()"
      ],
      "metadata": {
        "colab": {
          "resources": {
            "http://localhost:8080/nbextensions/google.colab/files.js": {
              "data": "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",
              "ok": true,
              "headers": [
                [
                  "content-type",
                  "application/javascript"
                ]
              ],
              "status": 200,
              "status_text": ""
            }
          },
          "base_uri": "https://localhost:8080/",
          "height": 73
        },
        "id": "U5oYXXk5nKsV",
        "outputId": "1aa609f3-3984-4e29-b003-42b61af99cca"
      },
      "execution_count": 25,
      "outputs": [
        {
          "output_type": "display_data",
          "data": {
            "text/plain": [
              "<IPython.core.display.HTML object>"
            ],
            "text/html": [
              "\n",
              "     <input type=\"file\" id=\"files-245c4039-8ef1-4065-b7ac-a39b8253b101\" name=\"files[]\" multiple disabled\n",
              "        style=\"border:none\" />\n",
              "     <output id=\"result-245c4039-8ef1-4065-b7ac-a39b8253b101\">\n",
              "      Upload widget is only available when the cell has been executed in the\n",
              "      current browser session. Please rerun this cell to enable.\n",
              "      </output>\n",
              "      <script src=\"/nbextensions/google.colab/files.js\"></script> "
            ]
          },
          "metadata": {}
        },
        {
          "output_type": "stream",
          "name": "stdout",
          "text": [
            "Saving S&P500_Stock_Data.csv to S&P500_Stock_Data.csv\n"
          ]
        }
      ]
    },
    {
      "cell_type": "code",
      "source": [
        "test=pd.read_csv('S&P500_Stock_Data.csv')\n",
        "test"
      ],
      "metadata": {
        "colab": {
          "base_uri": "https://localhost:8080/",
          "height": 424
        },
        "id": "wEsiBVbEz8Kh",
        "outputId": "e7784784-a926-4d45-cb23-33b1e0258dd3"
      },
      "execution_count": 26,
      "outputs": [
        {
          "output_type": "execute_result",
          "data": {
            "text/plain": [
              "     Interest Rates  Employment  S&P 500 Price\n",
              "0          1.943859   55.413571    2206.680582\n",
              "1          2.258229   59.546305    2486.474488\n",
              "2          2.215863   57.414687    2405.868337\n",
              "3          1.977960   49.908353    2140.434475\n",
              "4          2.437723   52.035492    2411.275663\n",
              "..              ...         ...            ...\n",
              "995        2.528420   52.390828    2578.699184\n",
              "996        2.643571   54.626204    2573.865933\n",
              "997        2.009644   57.004357    2004.911218\n",
              "998        2.201656   62.447790    2344.098981\n",
              "999        2.180638   46.297034    2156.133786\n",
              "\n",
              "[1000 rows x 3 columns]"
            ],
            "text/html": [
              "\n",
              "  <div id=\"df-a9004661-d24a-4d8b-ac70-9b0aabc7be27\">\n",
              "    <div class=\"colab-df-container\">\n",
              "      <div>\n",
              "<style scoped>\n",
              "    .dataframe tbody tr th:only-of-type {\n",
              "        vertical-align: middle;\n",
              "    }\n",
              "\n",
              "    .dataframe tbody tr th {\n",
              "        vertical-align: top;\n",
              "    }\n",
              "\n",
              "    .dataframe thead th {\n",
              "        text-align: right;\n",
              "    }\n",
              "</style>\n",
              "<table border=\"1\" class=\"dataframe\">\n",
              "  <thead>\n",
              "    <tr style=\"text-align: right;\">\n",
              "      <th></th>\n",
              "      <th>Interest Rates</th>\n",
              "      <th>Employment</th>\n",
              "      <th>S&amp;P 500 Price</th>\n",
              "    </tr>\n",
              "  </thead>\n",
              "  <tbody>\n",
              "    <tr>\n",
              "      <th>0</th>\n",
              "      <td>1.943859</td>\n",
              "      <td>55.413571</td>\n",
              "      <td>2206.680582</td>\n",
              "    </tr>\n",
              "    <tr>\n",
              "      <th>1</th>\n",
              "      <td>2.258229</td>\n",
              "      <td>59.546305</td>\n",
              "      <td>2486.474488</td>\n",
              "    </tr>\n",
              "    <tr>\n",
              "      <th>2</th>\n",
              "      <td>2.215863</td>\n",
              "      <td>57.414687</td>\n",
              "      <td>2405.868337</td>\n",
              "    </tr>\n",
              "    <tr>\n",
              "      <th>3</th>\n",
              "      <td>1.977960</td>\n",
              "      <td>49.908353</td>\n",
              "      <td>2140.434475</td>\n",
              "    </tr>\n",
              "    <tr>\n",
              "      <th>4</th>\n",
              "      <td>2.437723</td>\n",
              "      <td>52.035492</td>\n",
              "      <td>2411.275663</td>\n",
              "    </tr>\n",
              "    <tr>\n",
              "      <th>...</th>\n",
              "      <td>...</td>\n",
              "      <td>...</td>\n",
              "      <td>...</td>\n",
              "    </tr>\n",
              "    <tr>\n",
              "      <th>995</th>\n",
              "      <td>2.528420</td>\n",
              "      <td>52.390828</td>\n",
              "      <td>2578.699184</td>\n",
              "    </tr>\n",
              "    <tr>\n",
              "      <th>996</th>\n",
              "      <td>2.643571</td>\n",
              "      <td>54.626204</td>\n",
              "      <td>2573.865933</td>\n",
              "    </tr>\n",
              "    <tr>\n",
              "      <th>997</th>\n",
              "      <td>2.009644</td>\n",
              "      <td>57.004357</td>\n",
              "      <td>2004.911218</td>\n",
              "    </tr>\n",
              "    <tr>\n",
              "      <th>998</th>\n",
              "      <td>2.201656</td>\n",
              "      <td>62.447790</td>\n",
              "      <td>2344.098981</td>\n",
              "    </tr>\n",
              "    <tr>\n",
              "      <th>999</th>\n",
              "      <td>2.180638</td>\n",
              "      <td>46.297034</td>\n",
              "      <td>2156.133786</td>\n",
              "    </tr>\n",
              "  </tbody>\n",
              "</table>\n",
              "<p>1000 rows × 3 columns</p>\n",
              "</div>\n",
              "      <button class=\"colab-df-convert\" onclick=\"convertToInteractive('df-a9004661-d24a-4d8b-ac70-9b0aabc7be27')\"\n",
              "              title=\"Convert this dataframe to an interactive table.\"\n",
              "              style=\"display:none;\">\n",
              "        \n",
              "  <svg xmlns=\"http://www.w3.org/2000/svg\" height=\"24px\"viewBox=\"0 0 24 24\"\n",
              "       width=\"24px\">\n",
              "    <path d=\"M0 0h24v24H0V0z\" fill=\"none\"/>\n",
              "    <path d=\"M18.56 5.44l.94 2.06.94-2.06 2.06-.94-2.06-.94-.94-2.06-.94 2.06-2.06.94zm-11 1L8.5 8.5l.94-2.06 2.06-.94-2.06-.94L8.5 2.5l-.94 2.06-2.06.94zm10 10l.94 2.06.94-2.06 2.06-.94-2.06-.94-.94-2.06-.94 2.06-2.06.94z\"/><path d=\"M17.41 7.96l-1.37-1.37c-.4-.4-.92-.59-1.43-.59-.52 0-1.04.2-1.43.59L10.3 9.45l-7.72 7.72c-.78.78-.78 2.05 0 2.83L4 21.41c.39.39.9.59 1.41.59.51 0 1.02-.2 1.41-.59l7.78-7.78 2.81-2.81c.8-.78.8-2.07 0-2.86zM5.41 20L4 18.59l7.72-7.72 1.47 1.35L5.41 20z\"/>\n",
              "  </svg>\n",
              "      </button>\n",
              "      \n",
              "  <style>\n",
              "    .colab-df-container {\n",
              "      display:flex;\n",
              "      flex-wrap:wrap;\n",
              "      gap: 12px;\n",
              "    }\n",
              "\n",
              "    .colab-df-convert {\n",
              "      background-color: #E8F0FE;\n",
              "      border: none;\n",
              "      border-radius: 50%;\n",
              "      cursor: pointer;\n",
              "      display: none;\n",
              "      fill: #1967D2;\n",
              "      height: 32px;\n",
              "      padding: 0 0 0 0;\n",
              "      width: 32px;\n",
              "    }\n",
              "\n",
              "    .colab-df-convert:hover {\n",
              "      background-color: #E2EBFA;\n",
              "      box-shadow: 0px 1px 2px rgba(60, 64, 67, 0.3), 0px 1px 3px 1px rgba(60, 64, 67, 0.15);\n",
              "      fill: #174EA6;\n",
              "    }\n",
              "\n",
              "    [theme=dark] .colab-df-convert {\n",
              "      background-color: #3B4455;\n",
              "      fill: #D2E3FC;\n",
              "    }\n",
              "\n",
              "    [theme=dark] .colab-df-convert:hover {\n",
              "      background-color: #434B5C;\n",
              "      box-shadow: 0px 1px 3px 1px rgba(0, 0, 0, 0.15);\n",
              "      filter: drop-shadow(0px 1px 2px rgba(0, 0, 0, 0.3));\n",
              "      fill: #FFFFFF;\n",
              "    }\n",
              "  </style>\n",
              "\n",
              "      <script>\n",
              "        const buttonEl =\n",
              "          document.querySelector('#df-a9004661-d24a-4d8b-ac70-9b0aabc7be27 button.colab-df-convert');\n",
              "        buttonEl.style.display =\n",
              "          google.colab.kernel.accessAllowed ? 'block' : 'none';\n",
              "\n",
              "        async function convertToInteractive(key) {\n",
              "          const element = document.querySelector('#df-a9004661-d24a-4d8b-ac70-9b0aabc7be27');\n",
              "          const dataTable =\n",
              "            await google.colab.kernel.invokeFunction('convertToInteractive',\n",
              "                                                     [key], {});\n",
              "          if (!dataTable) return;\n",
              "\n",
              "          const docLinkHtml = 'Like what you see? Visit the ' +\n",
              "            '<a target=\"_blank\" href=https://colab.research.google.com/notebooks/data_table.ipynb>data table notebook</a>'\n",
              "            + ' to learn more about interactive tables.';\n",
              "          element.innerHTML = '';\n",
              "          dataTable['output_type'] = 'display_data';\n",
              "          await google.colab.output.renderOutput(dataTable, element);\n",
              "          const docLink = document.createElement('div');\n",
              "          docLink.innerHTML = docLinkHtml;\n",
              "          element.appendChild(docLink);\n",
              "        }\n",
              "      </script>\n",
              "    </div>\n",
              "  </div>\n",
              "  "
            ]
          },
          "metadata": {},
          "execution_count": 26
        }
      ]
    },
    {
      "cell_type": "code",
      "source": [
        ""
      ],
      "metadata": {
        "id": "I8Qp3VSY0FtM"
      },
      "execution_count": null,
      "outputs": []
    }
  ]
}